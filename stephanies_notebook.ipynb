{
 "cells": [
  {
   "cell_type": "code",
   "execution_count": 1,
   "id": "92349576",
   "metadata": {},
   "outputs": [],
   "source": [
    "# importing libraries\n",
    "import numpy as np\n",
    "import pandas as pd\n",
    "\n",
    "import acquire\n",
    "import prepare"
   ]
  },
  {
   "cell_type": "markdown",
   "id": "7fca50b0",
   "metadata": {},
   "source": [
    "## Removing non-english strings"
   ]
  },
  {
   "cell_type": "code",
   "execution_count": 2,
   "id": "51869fd0",
   "metadata": {},
   "outputs": [],
   "source": [
    "# def isEnglish(s):\n",
    "#     try:\n",
    "#         s.encode(encoding='utf-8').decode('ascii')\n",
    "        \n",
    "#     except UnicodeDecodeError:\n",
    "#         return False\n",
    "#     else:\n",
    "#         return True"
   ]
  },
  {
   "cell_type": "code",
   "execution_count": 3,
   "id": "790fe44e",
   "metadata": {},
   "outputs": [],
   "source": [
    "## testing function\n",
    "#isEnglish(df.readme_contents[3])"
   ]
  },
  {
   "cell_type": "code",
   "execution_count": 4,
   "id": "7c211bd8",
   "metadata": {},
   "outputs": [],
   "source": [
    "# df[df.readme_contents.apply(isEnglish) == True]"
   ]
  },
  {
   "cell_type": "markdown",
   "id": "9095688d",
   "metadata": {},
   "source": [
    "# Importing clean data"
   ]
  },
  {
   "cell_type": "code",
   "execution_count": 5,
   "id": "a98c18b9",
   "metadata": {},
   "outputs": [
    {
     "data": {
      "text/html": [
       "<div>\n",
       "<style scoped>\n",
       "    .dataframe tbody tr th:only-of-type {\n",
       "        vertical-align: middle;\n",
       "    }\n",
       "\n",
       "    .dataframe tbody tr th {\n",
       "        vertical-align: top;\n",
       "    }\n",
       "\n",
       "    .dataframe thead th {\n",
       "        text-align: right;\n",
       "    }\n",
       "</style>\n",
       "<table border=\"1\" class=\"dataframe\">\n",
       "  <thead>\n",
       "    <tr style=\"text-align: right;\">\n",
       "      <th></th>\n",
       "      <th>Unnamed: 0</th>\n",
       "      <th>repo</th>\n",
       "      <th>language</th>\n",
       "      <th>readme_contents</th>\n",
       "      <th>clean</th>\n",
       "      <th>stemmed</th>\n",
       "      <th>lemmatized</th>\n",
       "    </tr>\n",
       "  </thead>\n",
       "  <tbody>\n",
       "    <tr>\n",
       "      <th>0</th>\n",
       "      <td>0</td>\n",
       "      <td>python-discord/bot</td>\n",
       "      <td>Python</td>\n",
       "      <td># Python Utility Bot\\n\\n[![Discord][7]][8]\\n[!...</td>\n",
       "      <td>python utility bot discord78 lint test12 build...</td>\n",
       "      <td>python util bot discord78 lint test12 build34 ...</td>\n",
       "      <td>python util bot discord78 lint test12 build34 ...</td>\n",
       "    </tr>\n",
       "    <tr>\n",
       "      <th>1</th>\n",
       "      <td>4</td>\n",
       "      <td>microsoft/BotBuilder-Samples</td>\n",
       "      <td>JavaScript</td>\n",
       "      <td>\\r\\n# ![Bot Framework Samples](./docs/media/Bo...</td>\n",
       "      <td>bot framework samplesdocsmediabotframeworksamp...</td>\n",
       "      <td>bot framework samplesdocsmediabotframeworksamp...</td>\n",
       "      <td>bot framework samplesdocsmediabotframeworksamp...</td>\n",
       "    </tr>\n",
       "    <tr>\n",
       "      <th>2</th>\n",
       "      <td>5</td>\n",
       "      <td>GAwesomeBot/bot</td>\n",
       "      <td>JavaScript</td>\n",
       "      <td># GAwesomeBot\\n[![Travis Status](https://travi...</td>\n",
       "      <td>gawesomebot travis statushttpstravisciorggilbe...</td>\n",
       "      <td>gawesomebot travi statushttpstravisciorggilber...</td>\n",
       "      <td>gawesomebot travi statushttpstravisciorggilber...</td>\n",
       "    </tr>\n",
       "    <tr>\n",
       "      <th>3</th>\n",
       "      <td>6</td>\n",
       "      <td>roughike/BottomBar</td>\n",
       "      <td>Java</td>\n",
       "      <td># BottomBar (Deprecated)\\n\\nI don't have time ...</td>\n",
       "      <td>bottombar deprecated dont time maintain anymor...</td>\n",
       "      <td>bottombar deprec dont time maintain anymor bas...</td>\n",
       "      <td>bottombar deprec dont time maintain anymor bas...</td>\n",
       "    </tr>\n",
       "    <tr>\n",
       "      <th>4</th>\n",
       "      <td>7</td>\n",
       "      <td>mithun-prasad/Bot</td>\n",
       "      <td>C#</td>\n",
       "      <td># Developing and Deploying Intelligent Chat Bo...</td>\n",
       "      <td>developing deploying intelligent chat bots tra...</td>\n",
       "      <td>develop deploy intellig chat bot train resourc...</td>\n",
       "      <td>develop deploy intellig chat bot train resourc...</td>\n",
       "    </tr>\n",
       "  </tbody>\n",
       "</table>\n",
       "</div>"
      ],
      "text/plain": [
       "   Unnamed: 0                          repo    language  \\\n",
       "0           0            python-discord/bot      Python   \n",
       "1           4  microsoft/BotBuilder-Samples  JavaScript   \n",
       "2           5               GAwesomeBot/bot  JavaScript   \n",
       "3           6            roughike/BottomBar        Java   \n",
       "4           7             mithun-prasad/Bot          C#   \n",
       "\n",
       "                                     readme_contents  \\\n",
       "0  # Python Utility Bot\\n\\n[![Discord][7]][8]\\n[!...   \n",
       "1  \\r\\n# ![Bot Framework Samples](./docs/media/Bo...   \n",
       "2  # GAwesomeBot\\n[![Travis Status](https://travi...   \n",
       "3  # BottomBar (Deprecated)\\n\\nI don't have time ...   \n",
       "4  # Developing and Deploying Intelligent Chat Bo...   \n",
       "\n",
       "                                               clean  \\\n",
       "0  python utility bot discord78 lint test12 build...   \n",
       "1  bot framework samplesdocsmediabotframeworksamp...   \n",
       "2  gawesomebot travis statushttpstravisciorggilbe...   \n",
       "3  bottombar deprecated dont time maintain anymor...   \n",
       "4  developing deploying intelligent chat bots tra...   \n",
       "\n",
       "                                             stemmed  \\\n",
       "0  python util bot discord78 lint test12 build34 ...   \n",
       "1  bot framework samplesdocsmediabotframeworksamp...   \n",
       "2  gawesomebot travi statushttpstravisciorggilber...   \n",
       "3  bottombar deprec dont time maintain anymor bas...   \n",
       "4  develop deploy intellig chat bot train resourc...   \n",
       "\n",
       "                                          lemmatized  \n",
       "0  python util bot discord78 lint test12 build34 ...  \n",
       "1  bot framework samplesdocsmediabotframeworksamp...  \n",
       "2  gawesomebot travi statushttpstravisciorggilber...  \n",
       "3  bottombar deprec dont time maintain anymor bas...  \n",
       "4  develop deploy intellig chat bot train resourc...  "
      ]
     },
     "execution_count": 5,
     "metadata": {},
     "output_type": "execute_result"
    }
   ],
   "source": [
    "# importing csv and reading to df\n",
    "\n",
    "csv = 'NLP.csv'\n",
    "\n",
    "df = pd.read_csv(csv)\n",
    "\n",
    "df.head()"
   ]
  },
  {
   "cell_type": "markdown",
   "id": "6734cd18",
   "metadata": {},
   "source": [
    "## Univariate Analysis of Target Frequency"
   ]
  },
  {
   "cell_type": "code",
   "execution_count": 6,
   "id": "d202da2d",
   "metadata": {
    "scrolled": true
   },
   "outputs": [
    {
     "data": {
      "text/plain": [
       "<AxesSubplot:ylabel='language'>"
      ]
     },
     "execution_count": 6,
     "metadata": {},
     "output_type": "execute_result"
    },
    {
     "data": {
      "image/png": "[encoded data removed]",
      "text/plain": [
       "<Figure size 432x288 with 1 Axes>"
      ]
     },
     "metadata": {
      "needs_background": "light"
     },
     "output_type": "display_data"
    }
   ],
   "source": [
    "df.groupby('language').agg('count')['lemmatized'].plot.barh()"
   ]
  },
  {
   "cell_type": "code",
   "execution_count": 7,
   "id": "8c86d9ba",
   "metadata": {},
   "outputs": [
    {
     "data": {
      "text/plain": [
       "Python        112\n",
       "JavaScript     55\n",
       "Java           24\n",
       "C#             20\n",
       "TypeScript     17\n",
       "Name: language, dtype: int64"
      ]
     },
     "execution_count": 7,
     "metadata": {},
     "output_type": "execute_result"
    }
   ],
   "source": [
    "df.language.value_counts()"
   ]
  },
  {
   "cell_type": "code",
   "execution_count": 8,
   "id": "87ffb656",
   "metadata": {
    "scrolled": true
   },
   "outputs": [
    {
     "data": {
      "text/plain": [
       "Python        0.491228\n",
       "JavaScript    0.241228\n",
       "Java          0.105263\n",
       "C#            0.087719\n",
       "TypeScript    0.074561\n",
       "Name: language, dtype: float64"
      ]
     },
     "execution_count": 8,
     "metadata": {},
     "output_type": "execute_result"
    }
   ],
   "source": [
    "df.language.value_counts(normalize = True)"
   ]
  },
  {
   "cell_type": "code",
   "execution_count": 9,
   "id": "b02e2d55",
   "metadata": {
    "scrolled": true
   },
   "outputs": [
    {
     "data": {
      "image/png": "[encoded data removed]",
      "text/plain": [
       "<Figure size 432x288 with 1 Axes>"
      ]
     },
     "metadata": {
      "needs_background": "light"
     },
     "output_type": "display_data"
    }
   ],
   "source": [
    "import matplotlib.pyplot as plt\n",
    "\n",
    "df.language.value_counts(normalize = True).plot.barh()\n",
    "plt.title('Over Half of the Repos Have Python as the Programming Language')\n",
    "plt.show();"
   ]
  },
  {
   "cell_type": "markdown",
   "id": "19a6a35a",
   "metadata": {},
   "source": [
    "# Splitting data"
   ]
  },
  {
   "cell_type": "code",
   "execution_count": 50,
   "id": "93fd4f74",
   "metadata": {},
   "outputs": [],
   "source": [
    "train, validate, test = prepare.split_data(df)"
   ]
  },
  {
   "cell_type": "code",
   "execution_count": 51,
   "id": "d04d6f9d",
   "metadata": {},
   "outputs": [
    {
     "data": {
      "text/plain": [
       "((127, 7), (55, 7), (46, 7))"
      ]
     },
     "execution_count": 51,
     "metadata": {},
     "output_type": "execute_result"
    }
   ],
   "source": [
    "train.shape, validate.shape, test.shape"
   ]
  },
  {
   "cell_type": "code",
   "execution_count": 52,
   "id": "a416f0bc",
   "metadata": {},
   "outputs": [
    {
     "data": {
      "text/html": [
       "<div>\n",
       "<style scoped>\n",
       "    .dataframe tbody tr th:only-of-type {\n",
       "        vertical-align: middle;\n",
       "    }\n",
       "\n",
       "    .dataframe tbody tr th {\n",
       "        vertical-align: top;\n",
       "    }\n",
       "\n",
       "    .dataframe thead th {\n",
       "        text-align: right;\n",
       "    }\n",
       "</style>\n",
       "<table border=\"1\" class=\"dataframe\">\n",
       "  <thead>\n",
       "    <tr style=\"text-align: right;\">\n",
       "      <th></th>\n",
       "      <th>Unnamed: 0</th>\n",
       "      <th>repo</th>\n",
       "      <th>language</th>\n",
       "      <th>readme_contents</th>\n",
       "      <th>clean</th>\n",
       "      <th>stemmed</th>\n",
       "      <th>lemmatized</th>\n",
       "    </tr>\n",
       "  </thead>\n",
       "  <tbody>\n",
       "    <tr>\n",
       "      <th>222</th>\n",
       "      <td>580</td>\n",
       "      <td>botgram/botgram</td>\n",
       "      <td>JavaScript</td>\n",
       "      <td>[![Botgram](./docs/splash.png)](https://botgra...</td>\n",
       "      <td>botgramdocssplashpnghttpsbotgramjsorg bots spe...</td>\n",
       "      <td>botgramdocssplashpnghttpsbotgramjsorg bot spec...</td>\n",
       "      <td>botgramdocssplashpnghttpsbotgramjsorg bot spec...</td>\n",
       "    </tr>\n",
       "    <tr>\n",
       "      <th>97</th>\n",
       "      <td>244</td>\n",
       "      <td>odysseusmax/animated-lamp</td>\n",
       "      <td>Python</td>\n",
       "      <td># [Screenshotit_bot](https://tx.me/screenshoti...</td>\n",
       "      <td>screenshotit_bothttpstxmescreenshotit_bot tele...</td>\n",
       "      <td>screenshotit_bothttpstxmescreenshotit_bot tele...</td>\n",
       "      <td>screenshotit_bothttpstxmescreenshotit_bot tele...</td>\n",
       "    </tr>\n",
       "    <tr>\n",
       "      <th>182</th>\n",
       "      <td>479</td>\n",
       "      <td>agermanidis/SnapchatBot</td>\n",
       "      <td>Python</td>\n",
       "      <td>&lt;h1 style='color: red'&gt;This repo is deprecated...</td>\n",
       "      <td>h1 stylecolor redthis repo deprecated due chan...</td>\n",
       "      <td>h1 stylecolor redthi repo deprec due chang sna...</td>\n",
       "      <td>h1 stylecolor redthi repo deprec due chang sna...</td>\n",
       "    </tr>\n",
       "    <tr>\n",
       "      <th>108</th>\n",
       "      <td>270</td>\n",
       "      <td>NotSoSuper/NotSoBot</td>\n",
       "      <td>Python</td>\n",
       "      <td># NotSoBot\\n### Requires:\\n- Python 3.5\\n- [di...</td>\n",
       "      <td>notsobot requires python 35 discordpyhttpsgith...</td>\n",
       "      <td>notsobot requir python 35 discordpyhttpsgithub...</td>\n",
       "      <td>notsobot requir python 35 discordpyhttpsgithub...</td>\n",
       "    </tr>\n",
       "    <tr>\n",
       "      <th>176</th>\n",
       "      <td>467</td>\n",
       "      <td>boto/boto3-sample</td>\n",
       "      <td>Python</td>\n",
       "      <td>=========================\\nBoto 3 Sample Appli...</td>\n",
       "      <td>boto 3 sample application application implemen...</td>\n",
       "      <td>boto 3 sampl applic applic implement drop vide...</td>\n",
       "      <td>boto 3 sampl applic applic implement drop vide...</td>\n",
       "    </tr>\n",
       "  </tbody>\n",
       "</table>\n",
       "</div>"
      ],
      "text/plain": [
       "     Unnamed: 0                       repo    language  \\\n",
       "222         580            botgram/botgram  JavaScript   \n",
       "97          244  odysseusmax/animated-lamp      Python   \n",
       "182         479    agermanidis/SnapchatBot      Python   \n",
       "108         270        NotSoSuper/NotSoBot      Python   \n",
       "176         467          boto/boto3-sample      Python   \n",
       "\n",
       "                                       readme_contents  \\\n",
       "222  [![Botgram](./docs/splash.png)](https://botgra...   \n",
       "97   # [Screenshotit_bot](https://tx.me/screenshoti...   \n",
       "182  <h1 style='color: red'>This repo is deprecated...   \n",
       "108  # NotSoBot\\n### Requires:\\n- Python 3.5\\n- [di...   \n",
       "176  =========================\\nBoto 3 Sample Appli...   \n",
       "\n",
       "                                                 clean  \\\n",
       "222  botgramdocssplashpnghttpsbotgramjsorg bots spe...   \n",
       "97   screenshotit_bothttpstxmescreenshotit_bot tele...   \n",
       "182  h1 stylecolor redthis repo deprecated due chan...   \n",
       "108  notsobot requires python 35 discordpyhttpsgith...   \n",
       "176  boto 3 sample application application implemen...   \n",
       "\n",
       "                                               stemmed  \\\n",
       "222  botgramdocssplashpnghttpsbotgramjsorg bot spec...   \n",
       "97   screenshotit_bothttpstxmescreenshotit_bot tele...   \n",
       "182  h1 stylecolor redthi repo deprec due chang sna...   \n",
       "108  notsobot requir python 35 discordpyhttpsgithub...   \n",
       "176  boto 3 sampl applic applic implement drop vide...   \n",
       "\n",
       "                                            lemmatized  \n",
       "222  botgramdocssplashpnghttpsbotgramjsorg bot spec...  \n",
       "97   screenshotit_bothttpstxmescreenshotit_bot tele...  \n",
       "182  h1 stylecolor redthi repo deprec due chang sna...  \n",
       "108  notsobot requir python 35 discordpyhttpsgithub...  \n",
       "176  boto 3 sampl applic applic implement drop vide...  "
      ]
     },
     "execution_count": 52,
     "metadata": {},
     "output_type": "execute_result"
    }
   ],
   "source": [
    "train.head()"
   ]
  },
  {
   "cell_type": "code",
   "execution_count": 56,
   "id": "0eec0675",
   "metadata": {},
   "outputs": [],
   "source": [
    "# dropping the duplicate index col\n",
    "\n",
    "for df in train, validate, test:\n",
    "    df.drop(columns = ['Unnamed: 0'], inplace = True)"
   ]
  },
  {
   "cell_type": "code",
   "execution_count": 57,
   "id": "e20eb5e9",
   "metadata": {},
   "outputs": [
    {
     "data": {
      "text/html": [
       "<div>\n",
       "<style scoped>\n",
       "    .dataframe tbody tr th:only-of-type {\n",
       "        vertical-align: middle;\n",
       "    }\n",
       "\n",
       "    .dataframe tbody tr th {\n",
       "        vertical-align: top;\n",
       "    }\n",
       "\n",
       "    .dataframe thead th {\n",
       "        text-align: right;\n",
       "    }\n",
       "</style>\n",
       "<table border=\"1\" class=\"dataframe\">\n",
       "  <thead>\n",
       "    <tr style=\"text-align: right;\">\n",
       "      <th></th>\n",
       "      <th>repo</th>\n",
       "      <th>language</th>\n",
       "      <th>readme_contents</th>\n",
       "      <th>clean</th>\n",
       "      <th>stemmed</th>\n",
       "      <th>lemmatized</th>\n",
       "    </tr>\n",
       "  </thead>\n",
       "  <tbody>\n",
       "    <tr>\n",
       "      <th>222</th>\n",
       "      <td>botgram/botgram</td>\n",
       "      <td>JavaScript</td>\n",
       "      <td>[![Botgram](./docs/splash.png)](https://botgra...</td>\n",
       "      <td>botgramdocssplashpnghttpsbotgramjsorg bots spe...</td>\n",
       "      <td>botgramdocssplashpnghttpsbotgramjsorg bot spec...</td>\n",
       "      <td>botgramdocssplashpnghttpsbotgramjsorg bot spec...</td>\n",
       "    </tr>\n",
       "    <tr>\n",
       "      <th>97</th>\n",
       "      <td>odysseusmax/animated-lamp</td>\n",
       "      <td>Python</td>\n",
       "      <td># [Screenshotit_bot](https://tx.me/screenshoti...</td>\n",
       "      <td>screenshotit_bothttpstxmescreenshotit_bot tele...</td>\n",
       "      <td>screenshotit_bothttpstxmescreenshotit_bot tele...</td>\n",
       "      <td>screenshotit_bothttpstxmescreenshotit_bot tele...</td>\n",
       "    </tr>\n",
       "    <tr>\n",
       "      <th>182</th>\n",
       "      <td>agermanidis/SnapchatBot</td>\n",
       "      <td>Python</td>\n",
       "      <td>&lt;h1 style='color: red'&gt;This repo is deprecated...</td>\n",
       "      <td>h1 stylecolor redthis repo deprecated due chan...</td>\n",
       "      <td>h1 stylecolor redthi repo deprec due chang sna...</td>\n",
       "      <td>h1 stylecolor redthi repo deprec due chang sna...</td>\n",
       "    </tr>\n",
       "    <tr>\n",
       "      <th>108</th>\n",
       "      <td>NotSoSuper/NotSoBot</td>\n",
       "      <td>Python</td>\n",
       "      <td># NotSoBot\\n### Requires:\\n- Python 3.5\\n- [di...</td>\n",
       "      <td>notsobot requires python 35 discordpyhttpsgith...</td>\n",
       "      <td>notsobot requir python 35 discordpyhttpsgithub...</td>\n",
       "      <td>notsobot requir python 35 discordpyhttpsgithub...</td>\n",
       "    </tr>\n",
       "    <tr>\n",
       "      <th>176</th>\n",
       "      <td>boto/boto3-sample</td>\n",
       "      <td>Python</td>\n",
       "      <td>=========================\\nBoto 3 Sample Appli...</td>\n",
       "      <td>boto 3 sample application application implemen...</td>\n",
       "      <td>boto 3 sampl applic applic implement drop vide...</td>\n",
       "      <td>boto 3 sampl applic applic implement drop vide...</td>\n",
       "    </tr>\n",
       "  </tbody>\n",
       "</table>\n",
       "</div>"
      ],
      "text/plain": [
       "                          repo    language  \\\n",
       "222            botgram/botgram  JavaScript   \n",
       "97   odysseusmax/animated-lamp      Python   \n",
       "182    agermanidis/SnapchatBot      Python   \n",
       "108        NotSoSuper/NotSoBot      Python   \n",
       "176          boto/boto3-sample      Python   \n",
       "\n",
       "                                       readme_contents  \\\n",
       "222  [![Botgram](./docs/splash.png)](https://botgra...   \n",
       "97   # [Screenshotit_bot](https://tx.me/screenshoti...   \n",
       "182  <h1 style='color: red'>This repo is deprecated...   \n",
       "108  # NotSoBot\\n### Requires:\\n- Python 3.5\\n- [di...   \n",
       "176  =========================\\nBoto 3 Sample Appli...   \n",
       "\n",
       "                                                 clean  \\\n",
       "222  botgramdocssplashpnghttpsbotgramjsorg bots spe...   \n",
       "97   screenshotit_bothttpstxmescreenshotit_bot tele...   \n",
       "182  h1 stylecolor redthis repo deprecated due chan...   \n",
       "108  notsobot requires python 35 discordpyhttpsgith...   \n",
       "176  boto 3 sample application application implemen...   \n",
       "\n",
       "                                               stemmed  \\\n",
       "222  botgramdocssplashpnghttpsbotgramjsorg bot spec...   \n",
       "97   screenshotit_bothttpstxmescreenshotit_bot tele...   \n",
       "182  h1 stylecolor redthi repo deprec due chang sna...   \n",
       "108  notsobot requir python 35 discordpyhttpsgithub...   \n",
       "176  boto 3 sampl applic applic implement drop vide...   \n",
       "\n",
       "                                            lemmatized  \n",
       "222  botgramdocssplashpnghttpsbotgramjsorg bot spec...  \n",
       "97   screenshotit_bothttpstxmescreenshotit_bot tele...  \n",
       "182  h1 stylecolor redthi repo deprec due chang sna...  \n",
       "108  notsobot requir python 35 discordpyhttpsgithub...  \n",
       "176  boto 3 sampl applic applic implement drop vide...  "
      ]
     },
     "execution_count": 57,
     "metadata": {},
     "output_type": "execute_result"
    }
   ],
   "source": [
    "train.head()"
   ]
  },
  {
   "cell_type": "markdown",
   "id": "153959b2",
   "metadata": {},
   "source": [
    "## Word Frequency Exploration"
   ]
  },
  {
   "cell_type": "code",
   "execution_count": 41,
   "id": "1c0a2a0e",
   "metadata": {},
   "outputs": [
    {
     "data": {
      "text/plain": [
       "['Python', 'JavaScript', 'Java', 'C#', 'TypeScript']"
      ]
     },
     "execution_count": 41,
     "metadata": {},
     "output_type": "execute_result"
    }
   ],
   "source": [
    "list(train.language.unique())"
   ]
  },
  {
   "cell_type": "code",
   "execution_count": 58,
   "id": "7da97919",
   "metadata": {},
   "outputs": [],
   "source": [
    "# combining the text strings for each language\n",
    "\n",
    "# creating dfs\n",
    "df_python = train[train.language == 'Python']\n",
    "df_js = train[train.language == 'Javascript']\n",
    "df_java = train[train.language == 'Java']\n",
    "df_c = train[train.language == 'C#']\n",
    "df_type = train[train.language == 'TypeScript']"
   ]
  },
  {
   "cell_type": "code",
   "execution_count": 59,
   "id": "bdce51aa",
   "metadata": {},
   "outputs": [],
   "source": [
    "# generating text strings for each df\n",
    "python_words = ' '.join(df_python.lemmatized.astype(str))\n",
    "js_words = ' '.join(df_js.lemmatized.astype(str))\n",
    "java_words = ' '.join(df_java.lemmatized.astype(str))\n",
    "c_words = ' '.join(df_c.lemmatized.astype(str))\n",
    "type_words = ' '.join(df_type.lemmatized.astype(str))"
   ]
  },
  {
   "cell_type": "code",
   "execution_count": 81,
   "id": "d05877a0",
   "metadata": {
    "scrolled": true
   },
   "outputs": [
    {
     "data": {
      "text/html": [
       "<div>\n",
       "<style scoped>\n",
       "    .dataframe tbody tr th:only-of-type {\n",
       "        vertical-align: middle;\n",
       "    }\n",
       "\n",
       "    .dataframe tbody tr th {\n",
       "        vertical-align: top;\n",
       "    }\n",
       "\n",
       "    .dataframe thead th {\n",
       "        text-align: right;\n",
       "    }\n",
       "</style>\n",
       "<table border=\"1\" class=\"dataframe\">\n",
       "  <thead>\n",
       "    <tr style=\"text-align: right;\">\n",
       "      <th></th>\n",
       "      <th>word_cnt</th>\n",
       "      <th>word_freq</th>\n",
       "    </tr>\n",
       "  </thead>\n",
       "  <tbody>\n",
       "    <tr>\n",
       "      <th>bot</th>\n",
       "      <td>418</td>\n",
       "      <td>0.018825</td>\n",
       "    </tr>\n",
       "    <tr>\n",
       "      <th>use</th>\n",
       "      <td>341</td>\n",
       "      <td>0.015358</td>\n",
       "    </tr>\n",
       "    <tr>\n",
       "      <th>instal</th>\n",
       "      <td>264</td>\n",
       "      <td>0.011890</td>\n",
       "    </tr>\n",
       "    <tr>\n",
       "      <th>python</th>\n",
       "      <td>248</td>\n",
       "      <td>0.011169</td>\n",
       "    </tr>\n",
       "    <tr>\n",
       "      <th>file</th>\n",
       "      <td>213</td>\n",
       "      <td>0.009593</td>\n",
       "    </tr>\n",
       "    <tr>\n",
       "      <th>run</th>\n",
       "      <td>159</td>\n",
       "      <td>0.007161</td>\n",
       "    </tr>\n",
       "    <tr>\n",
       "      <th>support</th>\n",
       "      <td>139</td>\n",
       "      <td>0.006260</td>\n",
       "    </tr>\n",
       "    <tr>\n",
       "      <th>account</th>\n",
       "      <td>130</td>\n",
       "      <td>0.005855</td>\n",
       "    </tr>\n",
       "    <tr>\n",
       "      <th>user</th>\n",
       "      <td>117</td>\n",
       "      <td>0.005269</td>\n",
       "    </tr>\n",
       "    <tr>\n",
       "      <th>option</th>\n",
       "      <td>117</td>\n",
       "      <td>0.005269</td>\n",
       "    </tr>\n",
       "    <tr>\n",
       "      <th>get</th>\n",
       "      <td>116</td>\n",
       "      <td>0.005224</td>\n",
       "    </tr>\n",
       "    <tr>\n",
       "      <th>creat</th>\n",
       "      <td>107</td>\n",
       "      <td>0.004819</td>\n",
       "    </tr>\n",
       "    <tr>\n",
       "      <th>set</th>\n",
       "      <td>100</td>\n",
       "      <td>0.004504</td>\n",
       "    </tr>\n",
       "    <tr>\n",
       "      <th>link</th>\n",
       "      <td>99</td>\n",
       "      <td>0.004459</td>\n",
       "    </tr>\n",
       "    <tr>\n",
       "      <th>follow</th>\n",
       "      <td>94</td>\n",
       "      <td>0.004233</td>\n",
       "    </tr>\n",
       "    <tr>\n",
       "      <th>default</th>\n",
       "      <td>94</td>\n",
       "      <td>0.004233</td>\n",
       "    </tr>\n",
       "    <tr>\n",
       "      <th>want</th>\n",
       "      <td>92</td>\n",
       "      <td>0.004143</td>\n",
       "    </tr>\n",
       "    <tr>\n",
       "      <th>command</th>\n",
       "      <td>88</td>\n",
       "      <td>0.003963</td>\n",
       "    </tr>\n",
       "    <tr>\n",
       "      <th>servic</th>\n",
       "      <td>86</td>\n",
       "      <td>0.003873</td>\n",
       "    </tr>\n",
       "    <tr>\n",
       "      <th>download</th>\n",
       "      <td>83</td>\n",
       "      <td>0.003738</td>\n",
       "    </tr>\n",
       "  </tbody>\n",
       "</table>\n",
       "</div>"
      ],
      "text/plain": [
       "          word_cnt  word_freq\n",
       "bot            418   0.018825\n",
       "use            341   0.015358\n",
       "instal         264   0.011890\n",
       "python         248   0.011169\n",
       "file           213   0.009593\n",
       "run            159   0.007161\n",
       "support        139   0.006260\n",
       "account        130   0.005855\n",
       "user           117   0.005269\n",
       "option         117   0.005269\n",
       "get            116   0.005224\n",
       "creat          107   0.004819\n",
       "set            100   0.004504\n",
       "link            99   0.004459\n",
       "follow          94   0.004233\n",
       "default         94   0.004233\n",
       "want            92   0.004143\n",
       "command         88   0.003963\n",
       "servic          86   0.003873\n",
       "download        83   0.003738"
      ]
     },
     "execution_count": 81,
     "metadata": {},
     "output_type": "execute_result"
    }
   ],
   "source": [
    "# creating a df for the word count and frequency\n",
    "# word count\n",
    "df_python_count = pd.DataFrame(pd.Series(python_words.split()).value_counts(), columns = ['word_cnt']).head(20)\n",
    "\n",
    "# word frequency\n",
    "df_python_count['word_freq'] = pd.Series(python_words.split()).value_counts(normalize = True)\n",
    "\n",
    "# df view\n",
    "df_python_count"
   ]
  },
  {
   "cell_type": "code",
   "execution_count": 101,
   "id": "2b174c43",
   "metadata": {},
   "outputs": [
    {
     "ename": "ValueError",
     "evalue": "Could not interpret input 'index'",
     "output_type": "error",
     "traceback": [
      "\u001b[0;31m----------------------------------------------------------------------\u001b[0m",
      "\u001b[0;31mValueError\u001b[0m                           Traceback (most recent call last)",
      "\u001b[0;32m<ipython-input-101-ccd552736325>\u001b[0m in \u001b[0;36m<module>\u001b[0;34m\u001b[0m\n\u001b[1;32m      3\u001b[0m \u001b[0mplt\u001b[0m\u001b[0;34m.\u001b[0m\u001b[0mfigure\u001b[0m\u001b[0;34m(\u001b[0m\u001b[0mfigsize\u001b[0m \u001b[0;34m=\u001b[0m \u001b[0;34m(\u001b[0m\u001b[0;36m20\u001b[0m\u001b[0;34m,\u001b[0m \u001b[0;36m10\u001b[0m\u001b[0;34m)\u001b[0m\u001b[0;34m)\u001b[0m\u001b[0;34m\u001b[0m\u001b[0;34m\u001b[0m\u001b[0m\n\u001b[1;32m      4\u001b[0m \u001b[0;34m\u001b[0m\u001b[0m\n\u001b[0;32m----> 5\u001b[0;31m \u001b[0msns\u001b[0m\u001b[0;34m.\u001b[0m\u001b[0mcatplot\u001b[0m\u001b[0;34m(\u001b[0m\u001b[0mdata\u001b[0m \u001b[0;34m=\u001b[0m \u001b[0mdf_python_count\u001b[0m\u001b[0;34m,\u001b[0m \u001b[0mx\u001b[0m \u001b[0;34m=\u001b[0m \u001b[0;34m'index'\u001b[0m\u001b[0;34m,\u001b[0m \u001b[0my\u001b[0m \u001b[0;34m=\u001b[0m \u001b[0;34m'word_freq'\u001b[0m \u001b[0;34m)\u001b[0m\u001b[0;34m\u001b[0m\u001b[0;34m\u001b[0m\u001b[0m\n\u001b[0m",
      "\u001b[0;32m/usr/local/anaconda3/lib/python3.8/site-packages/seaborn/_decorators.py\u001b[0m in \u001b[0;36minner_f\u001b[0;34m(*args, **kwargs)\u001b[0m\n\u001b[1;32m     44\u001b[0m             )\n\u001b[1;32m     45\u001b[0m         \u001b[0mkwargs\u001b[0m\u001b[0;34m.\u001b[0m\u001b[0mupdate\u001b[0m\u001b[0;34m(\u001b[0m\u001b[0;34m{\u001b[0m\u001b[0mk\u001b[0m\u001b[0;34m:\u001b[0m \u001b[0marg\u001b[0m \u001b[0;32mfor\u001b[0m \u001b[0mk\u001b[0m\u001b[0;34m,\u001b[0m \u001b[0marg\u001b[0m \u001b[0;32min\u001b[0m \u001b[0mzip\u001b[0m\u001b[0;34m(\u001b[0m\u001b[0msig\u001b[0m\u001b[0;34m.\u001b[0m\u001b[0mparameters\u001b[0m\u001b[0;34m,\u001b[0m \u001b[0margs\u001b[0m\u001b[0;34m)\u001b[0m\u001b[0;34m}\u001b[0m\u001b[0;34m)\u001b[0m\u001b[0;34m\u001b[0m\u001b[0;34m\u001b[0m\u001b[0m\n\u001b[0;32m---> 46\u001b[0;31m         \u001b[0;32mreturn\u001b[0m \u001b[0mf\u001b[0m\u001b[0;34m(\u001b[0m\u001b[0;34m**\u001b[0m\u001b[0mkwargs\u001b[0m\u001b[0;34m)\u001b[0m\u001b[0;34m\u001b[0m\u001b[0;34m\u001b[0m\u001b[0m\n\u001b[0m\u001b[1;32m     47\u001b[0m     \u001b[0;32mreturn\u001b[0m \u001b[0minner_f\u001b[0m\u001b[0;34m\u001b[0m\u001b[0;34m\u001b[0m\u001b[0m\n\u001b[1;32m     48\u001b[0m \u001b[0;34m\u001b[0m\u001b[0m\n",
      "\u001b[0;32m/usr/local/anaconda3/lib/python3.8/site-packages/seaborn/categorical.py\u001b[0m in \u001b[0;36mcatplot\u001b[0;34m(x, y, hue, data, row, col, col_wrap, estimator, ci, n_boot, units, seed, order, hue_order, row_order, col_order, kind, height, aspect, orient, color, palette, legend, legend_out, sharex, sharey, margin_titles, facet_kws, **kwargs)\u001b[0m\n\u001b[1;32m   3787\u001b[0m     \u001b[0mp\u001b[0m \u001b[0;34m=\u001b[0m \u001b[0m_CategoricalPlotter\u001b[0m\u001b[0;34m(\u001b[0m\u001b[0;34m)\u001b[0m\u001b[0;34m\u001b[0m\u001b[0;34m\u001b[0m\u001b[0m\n\u001b[1;32m   3788\u001b[0m     \u001b[0mp\u001b[0m\u001b[0;34m.\u001b[0m\u001b[0mrequire_numeric\u001b[0m \u001b[0;34m=\u001b[0m \u001b[0mplotter_class\u001b[0m\u001b[0;34m.\u001b[0m\u001b[0mrequire_numeric\u001b[0m\u001b[0;34m\u001b[0m\u001b[0;34m\u001b[0m\u001b[0m\n\u001b[0;32m-> 3789\u001b[0;31m     \u001b[0mp\u001b[0m\u001b[0;34m.\u001b[0m\u001b[0mestablish_variables\u001b[0m\u001b[0;34m(\u001b[0m\u001b[0mx_\u001b[0m\u001b[0;34m,\u001b[0m \u001b[0my_\u001b[0m\u001b[0;34m,\u001b[0m \u001b[0mhue\u001b[0m\u001b[0;34m,\u001b[0m \u001b[0mdata\u001b[0m\u001b[0;34m,\u001b[0m \u001b[0morient\u001b[0m\u001b[0;34m,\u001b[0m \u001b[0morder\u001b[0m\u001b[0;34m,\u001b[0m \u001b[0mhue_order\u001b[0m\u001b[0;34m)\u001b[0m\u001b[0;34m\u001b[0m\u001b[0;34m\u001b[0m\u001b[0m\n\u001b[0m\u001b[1;32m   3790\u001b[0m     if (\n\u001b[1;32m   3791\u001b[0m         \u001b[0morder\u001b[0m \u001b[0;32mis\u001b[0m \u001b[0;32mnot\u001b[0m \u001b[0;32mNone\u001b[0m\u001b[0;34m\u001b[0m\u001b[0;34m\u001b[0m\u001b[0m\n",
      "\u001b[0;32m/usr/local/anaconda3/lib/python3.8/site-packages/seaborn/categorical.py\u001b[0m in \u001b[0;36mestablish_variables\u001b[0;34m(self, x, y, hue, data, orient, order, hue_order, units)\u001b[0m\n\u001b[1;32m    151\u001b[0m                 \u001b[0;32mif\u001b[0m \u001b[0misinstance\u001b[0m\u001b[0;34m(\u001b[0m\u001b[0mvar\u001b[0m\u001b[0;34m,\u001b[0m \u001b[0mstr\u001b[0m\u001b[0;34m)\u001b[0m\u001b[0;34m:\u001b[0m\u001b[0;34m\u001b[0m\u001b[0;34m\u001b[0m\u001b[0m\n\u001b[1;32m    152\u001b[0m                     \u001b[0merr\u001b[0m \u001b[0;34m=\u001b[0m \u001b[0;34m\"Could not interpret input '{}'\"\u001b[0m\u001b[0;34m.\u001b[0m\u001b[0mformat\u001b[0m\u001b[0;34m(\u001b[0m\u001b[0mvar\u001b[0m\u001b[0;34m)\u001b[0m\u001b[0;34m\u001b[0m\u001b[0;34m\u001b[0m\u001b[0m\n\u001b[0;32m--> 153\u001b[0;31m                     \u001b[0;32mraise\u001b[0m \u001b[0mValueError\u001b[0m\u001b[0;34m(\u001b[0m\u001b[0merr\u001b[0m\u001b[0;34m)\u001b[0m\u001b[0;34m\u001b[0m\u001b[0;34m\u001b[0m\u001b[0m\n\u001b[0m\u001b[1;32m    154\u001b[0m \u001b[0;34m\u001b[0m\u001b[0m\n\u001b[1;32m    155\u001b[0m             \u001b[0;31m# Figure out the plotting orientation\u001b[0m\u001b[0;34m\u001b[0m\u001b[0;34m\u001b[0m\u001b[0;34m\u001b[0m\u001b[0m\n",
      "\u001b[0;31mValueError\u001b[0m: Could not interpret input 'index'"
     ]
    },
    {
     "data": {
      "text/plain": [
       "<Figure size 1440x720 with 0 Axes>"
      ]
     },
     "metadata": {},
     "output_type": "display_data"
    }
   ],
   "source": [
    "import seaborn as sns\n",
    "\n",
    "plt.figure(figsize = (20, 10))\n",
    "\n",
    "sns.catplot(data = df_python_count, x = 'index', y = 'word_freq' )"
   ]
  },
  {
   "cell_type": "code",
   "execution_count": 102,
   "id": "58de52b8",
   "metadata": {},
   "outputs": [
    {
     "data": {
      "text/plain": [
       "Int64Index([160, 178, 130, 151,  80, 141, 140,  79, 197,  20,  42, 183, 166,\n",
       "             82,  24, 212,  19,  53, 107, 156, 169, 132,  81, 190, 219, 211,\n",
       "            172,  33, 157,  31,  71, 186, 210, 201, 120,   4,  37,  72,  21,\n",
       "            133, 114, 175, 100, 173,  23,  61],\n",
       "           dtype='int64')"
      ]
     },
     "execution_count": 102,
     "metadata": {},
     "output_type": "execute_result"
    }
   ],
   "source": [
    "df_p.index"
   ]
  },
  {
   "cell_type": "code",
   "execution_count": null,
   "id": "903c12c7",
   "metadata": {},
   "outputs": [],
   "source": []
  },
  {
   "cell_type": "code",
   "execution_count": null,
   "id": "7d1dfc36",
   "metadata": {},
   "outputs": [],
   "source": []
  },
  {
   "cell_type": "code",
   "execution_count": null,
   "id": "ba50ccc1",
   "metadata": {},
   "outputs": [],
   "source": []
  },
  {
   "cell_type": "code",
   "execution_count": null,
   "id": "6071eff2",
   "metadata": {},
   "outputs": [],
   "source": []
  }
 ],
 "metadata": {
  "kernelspec": {
   "display_name": "Python 3",
   "language": "python",
   "name": "python3"
  },
  "language_info": {
   "codemirror_mode": {
    "name": "ipython",
    "version": 3
   },
   "file_extension": ".py",
   "mimetype": "text/x-python",
   "name": "python",
   "nbconvert_exporter": "python",
   "pygments_lexer": "ipython3",
   "version": "3.8.8"
  }
 },
 "nbformat": 4,
 "nbformat_minor": 5
}
