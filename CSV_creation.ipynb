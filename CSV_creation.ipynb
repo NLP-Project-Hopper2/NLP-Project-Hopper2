{
 "cells": [
  {
   "cell_type": "code",
   "execution_count": 1,
   "id": "246b7aea",
   "metadata": {},
   "outputs": [
    {
     "name": "stderr",
     "output_type": "stream",
     "text": [
      "<ipython-input-1-92e6b57189d7>:16: FutureWarning: Passing a negative integer is deprecated in version 1.0 and will not be supported in future version. Instead, use None to not limit the column width.\n",
      "  pd.set_option('display.max_colwidth', -1)\n"
     ]
    }
   ],
   "source": [
    "import pandas as pd\n",
    "import numpy as np\n",
    "import matplotlib.pyplot as plt\n",
    "import seaborn as sns\n",
    "\n",
    "\n",
    "import requests\n",
    "from bs4 import BeautifulSoup\n",
    "\n",
    "import nltk\n",
    "from nltk.tokenize.toktok import ToktokTokenizer\n",
    "from nltk.corpus import stopwords\n",
    "import nltk.sentiment\n",
    "\n",
    "from wordcloud import WordCloud\n",
    "pd.set_option('display.max_colwidth', -1)\n",
    "import re\n",
    "from time import strftime\n",
    "\n",
    "import unicodedata\n",
    "import json\n",
    "from pprint import pprint\n",
    "\n",
    "# Turn off pink boxes for demo\n",
    "import warnings\n",
    "warnings.filterwarnings(\"ignore\")\n",
    "\n",
    "from PIL import Image\n",
    "\n",
    "import acquire \n",
    "import prepare"
   ]
  },
  {
   "cell_type": "code",
   "execution_count": 2,
   "id": "f7ba9f13",
   "metadata": {},
   "outputs": [],
   "source": [
    "df = pd.DataFrame(acquire.scrape_github_data(), columns= ['repo', 'language', 'readme_contents'])\n"
   ]
  },
  {
   "cell_type": "code",
   "execution_count": 4,
   "id": "75e817f0",
   "metadata": {},
   "outputs": [
    {
     "data": {
      "text/plain": [
       "(600, 3)"
      ]
     },
     "execution_count": 4,
     "metadata": {},
     "output_type": "execute_result"
    }
   ],
   "source": [
    "df.shape"
   ]
  },
  {
   "cell_type": "code",
   "execution_count": 5,
   "id": "6397d0e6",
   "metadata": {},
   "outputs": [],
   "source": [
    "#     This function take in a df and the string name for a text column with \n",
    "#     option to pass lists for extra_words and exclude_words and\n",
    "#     returns a df with the text article title, original text, stemmed text,\n",
    "#     lemmatized text, cleaned, tokenized, & lemmatized text with stopwords removed.\n",
    "\n",
    "df = prepare.prep_article_data(df)"
   ]
  },
  {
   "cell_type": "code",
   "execution_count": 7,
   "id": "a2297e97",
   "metadata": {},
   "outputs": [],
   "source": [
    "#backup\n",
    "df1 = df"
   ]
  },
  {
   "cell_type": "code",
   "execution_count": null,
   "id": "d58dabcd",
   "metadata": {},
   "outputs": [],
   "source": [
    "### Breaking down filter_data function located in prepare.py"
   ]
  },
  {
   "cell_type": "code",
   "execution_count": 10,
   "id": "e240ac9f",
   "metadata": {},
   "outputs": [
    {
     "data": {
      "text/plain": [
       "repo               0 \n",
       "language           22\n",
       "readme_contents    0 \n",
       "clean              0 \n",
       "stemmed            0 \n",
       "lemmatized         0 \n",
       "dtype: int64"
      ]
     },
     "execution_count": 10,
     "metadata": {},
     "output_type": "execute_result"
    }
   ],
   "source": [
    "# 22 null values that will be dropped\n",
    "df.isnull().sum()"
   ]
  },
  {
   "cell_type": "code",
   "execution_count": 12,
   "id": "c03166c3",
   "metadata": {},
   "outputs": [
    {
     "data": {
      "text/plain": [
       "578"
      ]
     },
     "execution_count": 12,
     "metadata": {},
     "output_type": "execute_result"
    }
   ],
   "source": [
    "df = df.dropna()\n",
    "df.shape[0]\n",
    "\n",
    "#dropped 22 values"
   ]
  },
  {
   "cell_type": "code",
   "execution_count": 13,
   "id": "5b65e09b",
   "metadata": {},
   "outputs": [],
   "source": [
    "def isEnglish(s):\n",
    "    '''This function filters out for just english words in readme_contents for github repos'''\n",
    "    try:\n",
    "        s.encode(encoding='utf-8').decode('ascii')\n",
    "        \n",
    "    except UnicodeDecodeError:\n",
    "        return False\n",
    "    else:\n",
    "        return True"
   ]
  },
  {
   "cell_type": "code",
   "execution_count": 16,
   "id": "88b5d975",
   "metadata": {},
   "outputs": [
    {
     "data": {
      "text/plain": [
       "308"
      ]
     },
     "execution_count": 16,
     "metadata": {},
     "output_type": "execute_result"
    }
   ],
   "source": [
    "# isEnglish function dropped 270 repos\n",
    "\n",
    "df =df[df.readme_contents.apply(isEnglish) == True]\n",
    "df.shape[0]"
   ]
  },
  {
   "cell_type": "code",
   "execution_count": 17,
   "id": "05f57137",
   "metadata": {},
   "outputs": [
    {
     "data": {
      "text/plain": [
       "Python               112\n",
       "JavaScript           55 \n",
       "Java                 24 \n",
       "C#                   20 \n",
       "TypeScript           17 \n",
       "PHP                  11 \n",
       "Kotlin               10 \n",
       "Go                   10 \n",
       "C++                  7  \n",
       "Jupyter Notebook     5  \n",
       "C                    5  \n",
       "Dart                 4  \n",
       "Ruby                 4  \n",
       "HTML                 4  \n",
       "Swift                3  \n",
       "Shell                3  \n",
       "Rust                 2  \n",
       "CoffeeScript         2  \n",
       "TeX                  1  \n",
       "Lua                  1  \n",
       "OCaml                1  \n",
       "PowerShell           1  \n",
       "CSS                  1  \n",
       "Elixir               1  \n",
       "Visual Basic .NET    1  \n",
       "HLSL                 1  \n",
       "OpenEdge ABL         1  \n",
       "Elm                  1  \n",
       "Name: language, dtype: int64"
      ]
     },
     "execution_count": 17,
     "metadata": {},
     "output_type": "execute_result"
    }
   ],
   "source": [
    "df.language.value_counts()"
   ]
  },
  {
   "cell_type": "code",
   "execution_count": 18,
   "id": "2b92c809",
   "metadata": {},
   "outputs": [],
   "source": [
    "def get_top_5_languages(df):\n",
    "    '''This function filters for just the top 5 languages and drops the rest'''\n",
    "    top5_list = list(df.language.value_counts().head(5).index)\n",
    "    mask = df.language.apply(lambda x: x in top5_list)\n",
    "    df = df[mask]\n",
    "    return df"
   ]
  },
  {
   "cell_type": "code",
   "execution_count": 20,
   "id": "7f0faf4f",
   "metadata": {},
   "outputs": [
    {
     "data": {
      "text/plain": [
       "228"
      ]
     },
     "execution_count": 20,
     "metadata": {},
     "output_type": "execute_result"
    }
   ],
   "source": [
    "# dropping all values but top 5\n",
    "# drops 80 repos (May add back if we have time past MVP)\n",
    "df = get_top_5_languages(df)\n",
    "df.shape[0]"
   ]
  },
  {
   "cell_type": "code",
   "execution_count": 21,
   "id": "bae66551",
   "metadata": {},
   "outputs": [],
   "source": [
    "# wrote df to CSV for quicker processing\n",
    "import os\n",
    "df.to_csv('NLP.csv')"
   ]
  },
  {
   "cell_type": "code",
   "execution_count": 22,
   "id": "c794316d",
   "metadata": {},
   "outputs": [],
   "source": [
    "train, validate, test = prepare.split_data(df)"
   ]
  },
  {
   "cell_type": "code",
   "execution_count": 24,
   "id": "348e793c",
   "metadata": {},
   "outputs": [
    {
     "name": "stdout",
     "output_type": "stream",
     "text": [
      "train ===> (127, 6)\n",
      "validate ===> (55, 6)\n",
      "test===> (46, 6)\n"
     ]
    }
   ],
   "source": [
    "print ('train ===>', train.shape)\n",
    "print ('validate ===>', validate.shape)\n",
    "print('test===>', test.shape)"
   ]
  }
 ],
 "metadata": {
  "kernelspec": {
   "display_name": "Python 3",
   "language": "python",
   "name": "python3"
  },
  "language_info": {
   "codemirror_mode": {
    "name": "ipython",
    "version": 3
   },
   "file_extension": ".py",
   "mimetype": "text/x-python",
   "name": "python",
   "nbconvert_exporter": "python",
   "pygments_lexer": "ipython3",
   "version": "3.8.8"
  }
 },
 "nbformat": 4,
 "nbformat_minor": 5
}
