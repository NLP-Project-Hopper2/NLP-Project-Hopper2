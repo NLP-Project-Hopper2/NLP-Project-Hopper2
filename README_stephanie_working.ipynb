{
 "cells": [
  {
   "cell_type": "markdown",
   "id": "e912b9fa",
   "metadata": {},
   "source": [
    "# README Template"
   ]
  },
  {
   "cell_type": "markdown",
   "id": "dc460801",
   "metadata": {},
   "source": [
    "## Project Description\n",
    "For this project, you will be scraping data from GitHub repository README files. (from Curriculum Project Spec)\n",
    "#### Deliverables\n",
    "- [Report Notebook](https://github.com/NLP-Project-Hopper2/NLP-Project-Hopper2.git), *Github repo for now, will change this later*\n",
    "- [Summary Slides](https://github.com/NLP-Project-Hopper2/NLP-Project-Hopper2.git), *Github repo for now, will change this later*\n",
    "- [Trello Planning Board](https://trello.com/invite/b/KFt1reNg/ee3c6fa6eded197b657440962cf9c7e0/githublanguage-prediction)\n",
    "- Presentation"
   ]
  },
  {
   "cell_type": "code",
   "execution_count": null,
   "id": "f7ed3c6b",
   "metadata": {},
   "outputs": [],
   "source": []
  },
  {
   "cell_type": "markdown",
   "id": "0aa183af",
   "metadata": {},
   "source": [
    "## Project Goals\n",
    "The goal will be to build a model that can predict what programming language a repository is, given the text of the README file. (from Curriculum Project Spec)"
   ]
  },
  {
   "cell_type": "code",
   "execution_count": null,
   "id": "91bee961",
   "metadata": {},
   "outputs": [],
   "source": []
  },
  {
   "cell_type": "markdown",
   "id": "28e69dc6",
   "metadata": {},
   "source": [
    "## Initial Questions and Hypothesis\n",
    "#### Inital Hypothesis\n",
    "Lorem ipsum dolor sit amet, consectetur adipiscing elit, sed do eiusmod tempor incididunt ut labore et dolore magna aliqua.\n",
    "<br>\n",
    "#### Inital Questions\n",
    "- Lorem ipsum dolor sit amet, consectetur adipiscing elit, sed do eiusmod tempor incididunt ut labore et dolore magna aliqua.\n",
    "- Lorem ipsum dolor sit amet, consectetur adipiscing elit, sed do eiusmod tempor incididunt ut labore et dolore magna aliqua.\n",
    "- Lorem ipsum dolor sit amet, consectetur adipiscing elit, sed do eiusmod tempor incididunt ut labore et dolore magna aliqua.\n",
    "- Lorem ipsum dolor sit amet, consectetur adipiscing elit, sed do eiusmod tempor incididunt ut labore et dolore magna aliqua.\n",
    "\n"
   ]
  },
  {
   "cell_type": "code",
   "execution_count": null,
   "id": "f8117102",
   "metadata": {},
   "outputs": [],
   "source": []
  },
  {
   "cell_type": "markdown",
   "id": "fce425a9",
   "metadata": {},
   "source": [
    "## Data Dictionary\n",
    "Target | Dtype | Description\n",
    ":-- | :-- | :--\n",
    "`var_name` | datatype | description\n",
    "\n",
    "<hr>\n",
    "\n",
    "Model Feature | Dtype | Description\n",
    ":-- | :-- | :--\n",
    "`var_name` | datatype | description\n",
    "`var_name` | datatype | description\n",
    "\n",
    "<hr>\n",
    "\n",
    "Attributes Explored | Dtype | Description\n",
    ":-- | :-- | :--\n",
    "`var_name` | datatype | description\n",
    "`var_name` | datatype | description\n",
    "\n",
    "<hr>\n",
    "\n",
    "File | Format | Description\n",
    ":-- | :-- | :--\n",
    "[README.md](https://github.com/NLP-Project-Hopper2/NLP-Project-Hopper2/blob/db8fbfd00650ab3c86926b7f52631e468975fb21/README.md) | markdown | Github repository project details\n",
    "[NLP-Project-Hopper2](https://github.com/NLP-Project-Hopper2/NLP-Project-Hopper2.git) | file | Github repository/local file name\n",
    "[acquire.py](https://github.com/NLP-Project-Hopper2/NLP-Project-Hopper2/blob/db8fbfd00650ab3c86926b7f52631e468975fb21/acquire.py) | python module | functions to acquire data\n",
    "[prepare.py](https://github.com/NLP-Project-Hopper2/NLP-Project-Hopper2/blob/db8fbfd00650ab3c86926b7f52631e468975fb21/prepare.py) | python module | functions to clean, split, and prepare data\n",
    "[explore.py]() | python module | functions for final notebook exploration visuals and statistical tests\n",
    "[daniels_notebook.ipynb](https://github.com/NLP-Project-Hopper2/NLP-Project-Hopper2/blob/db8fbfd00650ab3c86926b7f52631e468975fb21/daniels_notebook.ipynb) | Jupyter Notebook | Danielss working notebook\n",
    "[stephanies_notebook.ipynb]() | Jupyter Notebook | Stepahnie's working notebook\n",
    "\n"
   ]
  },
  {
   "cell_type": "code",
   "execution_count": null,
   "id": "74dfee76",
   "metadata": {},
   "outputs": [],
   "source": []
  },
  {
   "cell_type": "markdown",
   "id": "f0dd231d",
   "metadata": {},
   "source": [
    "## Project Planning\n",
    "### 00_planning\n",
    "- test\n",
    "- test\n",
    "\n",
    ">Planning Deliverables:\n",
    ">- [Trello Board](https://trello.com/invite/b/KFt1reNg/ee3c6fa6eded197b657440962cf9c7e0/githublanguage-prediction)"
   ]
  },
  {
   "cell_type": "markdown",
   "id": "9a24f2cb",
   "metadata": {},
   "source": [
    "### 01_acquire\n",
    "- test\n",
    "- test\n",
    "\n",
    ">Acuire Deliverables:\n",
    ">- [acquire.py](https://github.com/NLP-Project-Hopper2/NLP-Project-Hopper2/blob/db8fbfd00650ab3c86926b7f52631e468975fb21/acquire.py) Module"
   ]
  },
  {
   "cell_type": "markdown",
   "id": "d2476e9d",
   "metadata": {},
   "source": [
    "### 02_prepare\n",
    "- test\n",
    "- test\n",
    "\n",
    ">Prepare Deliverables:\n",
    ">- [prepare.py](https://github.com/NLP-Project-Hopper2/NLP-Project-Hopper2/blob/db8fbfd00650ab3c86926b7f52631e468975fb21/prepare.py) Module"
   ]
  },
  {
   "cell_type": "markdown",
   "id": "fe151fe6",
   "metadata": {},
   "source": [
    "### 03_explore\n",
    "**Exploration Questions and Answers**\n",
    "- test question\n",
    ">test answer\n",
    "- test question\n",
    ">test answer\n",
    "\n",
    "**Key Takeaways from Exploratory Data Analysis**\n",
    "- test\n",
    "- test\n",
    "- test"
   ]
  },
  {
   "cell_type": "markdown",
   "id": "d0321e13",
   "metadata": {},
   "source": [
    "### 04_model\n",
    "**Evaluation Metric**<br>\n",
    "Metric Used\n",
    ">Description\n",
    "\n",
    "**Performance**<br>\n",
    "\n",
    "Model | Information | Performance\n",
    ":-- | :-- | :--\n",
    "Baseline | Mode | xX% xxxx\n",
    "Model 1 | Model Name | xX% xxxx\n",
    "Model 2 | Model Name | xX% xxxx\n",
    "Model 3 | Model Name | xX% xxxx\n",
    "\n",
    "<hr>\n",
    "\n",
    "**Models Used and Parameters**<br>\n",
    "Model 1 \n",
    "- Parameter 1\n",
    "- Parameter 2\n",
    "\n",
    "Model 2\n",
    "- Parameter 1\n",
    "- Parameter 2\n",
    "\n",
    "Model 3\n",
    "- Parameter 1\n",
    "- Parameter 2"
   ]
  },
  {
   "cell_type": "markdown",
   "id": "206f9d8a",
   "metadata": {},
   "source": [
    "### 05_Conclusions\n",
    "#### Key Takeaways\n",
    "- test\n",
    "- test\n",
    "- test\n",
    "\n",
    "#### Next Steps\n",
    "- test\n",
    "- test\n",
    "- test"
   ]
  },
  {
   "cell_type": "markdown",
   "id": "c1690620",
   "metadata": {},
   "source": [
    "## Steps to Recreate"
   ]
  },
  {
   "cell_type": "code",
   "execution_count": null,
   "id": "62014616",
   "metadata": {},
   "outputs": [],
   "source": []
  }
 ],
 "metadata": {
  "kernelspec": {
   "display_name": "Python 3",
   "language": "python",
   "name": "python3"
  },
  "language_info": {
   "codemirror_mode": {
    "name": "ipython",
    "version": 3
   },
   "file_extension": ".py",
   "mimetype": "text/x-python",
   "name": "python",
   "nbconvert_exporter": "python",
   "pygments_lexer": "ipython3",
   "version": "3.8.8"
  }
 },
 "nbformat": 4,
 "nbformat_minor": 5
}
