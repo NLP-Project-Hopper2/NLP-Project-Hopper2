{
 "cells": [
  {
   "cell_type": "code",
   "execution_count": 1,
   "id": "0aebc3d7",
   "metadata": {},
   "outputs": [],
   "source": [
    "import requests\n",
    "from bs4 import BeautifulSoup\n",
    "import os\n",
    "import time\n",
    "import acquire"
   ]
  },
  {
   "cell_type": "code",
   "execution_count": null,
   "id": "a4765b74",
   "metadata": {},
   "outputs": [],
   "source": [
    "time.sleep(#): print()"
   ]
  },
  {
   "cell_type": "code",
   "execution_count": null,
   "id": "e31feabe",
   "metadata": {},
   "outputs": [],
   "source": [
    "link = 'https://github.com/search?p=1&q=bot&type=Repositories'\n",
    "\n",
    "# make the request using the link of the first article and save html response to a variable\n",
    "response = requests.get(link, headers={'user-agent': 'codeup data science hopper cohort'})\n",
    "html = response.text\n",
    "html"
   ]
  },
  {
   "cell_type": "code",
   "execution_count": null,
   "id": "3652a7a7",
   "metadata": {},
   "outputs": [],
   "source": [
    "soup = BeautifulSoup(html)\n",
    "print(soup.prettify())"
   ]
  },
  {
   "cell_type": "code",
   "execution_count": null,
   "id": "2f652efa",
   "metadata": {},
   "outputs": [],
   "source": [
    "# articles = soup.find_all('data-hydro-click')\n",
    "# articles = soup.select('.v-align-middle')['href']\n",
    "articles = soup.select('a.v-align-middle')\n",
    "articles"
   ]
  },
  {
   "cell_type": "code",
   "execution_count": null,
   "id": "cf2a52de",
   "metadata": {},
   "outputs": [],
   "source": [
    "repos = [article['href'] for article in articles]\n",
    "repos"
   ]
  },
  {
   "cell_type": "code",
   "execution_count": null,
   "id": "cb64dd22",
   "metadata": {},
   "outputs": [],
   "source": [
    "url = 'https://codeup.com/data-science/math-in-data-science/'\n",
    "headers = {'User-Agent': 'Codeup Data Science'} # Some websites don't accept the pyhon-requests default user-agent\n",
    "response = get(url, headers=headers)"
   ]
  },
  {
   "cell_type": "code",
   "execution_count": 5,
   "id": "e93e20dd",
   "metadata": {},
   "outputs": [
    {
     "name": "stdout",
     "output_type": "stream",
     "text": [
      "200\n",
      "['/python-discord/bot', '/discord-tickets/bot', '/go-chat-bot/bot', '/SuMaiKaDe/bot', '/microsoft/BotBuilder-Samples', '/GAwesomeBot/bot', '/roughike/BottomBar', '/mithun-prasad/Bot', '/boto/boto3', '/howdyai/botkit']\n",
      "200\n",
      "['/python-discord/bot', '/discord-tickets/bot', '/go-chat-bot/bot', '/SuMaiKaDe/bot', '/microsoft/BotBuilder-Samples', '/GAwesomeBot/bot', '/roughike/BottomBar', '/mithun-prasad/Bot', '/boto/boto3', '/howdyai/botkit', '/python-discord/bot', '/discord-tickets/bot', '/go-chat-bot/bot', '/SuMaiKaDe/bot', '/microsoft/BotBuilder-Samples', '/GAwesomeBot/bot', '/roughike/BottomBar', '/mithun-prasad/Bot', '/boto/boto3', '/howdyai/botkit']\n",
      "200\n",
      "['/python-discord/bot', '/discord-tickets/bot', '/go-chat-bot/bot', '/SuMaiKaDe/bot', '/microsoft/BotBuilder-Samples', '/GAwesomeBot/bot', '/roughike/BottomBar', '/mithun-prasad/Bot', '/boto/boto3', '/howdyai/botkit', '/python-discord/bot', '/discord-tickets/bot', '/go-chat-bot/bot', '/SuMaiKaDe/bot', '/microsoft/BotBuilder-Samples', '/GAwesomeBot/bot', '/roughike/BottomBar', '/mithun-prasad/Bot', '/boto/boto3', '/howdyai/botkit', '/python-discord/bot', '/discord-tickets/bot', '/go-chat-bot/bot', '/SuMaiKaDe/bot', '/microsoft/BotBuilder-Samples', '/GAwesomeBot/bot', '/roughike/BottomBar', '/mithun-prasad/Bot', '/boto/boto3', '/howdyai/botkit']\n",
      "200\n",
      "['/python-discord/bot', '/discord-tickets/bot', '/go-chat-bot/bot', '/SuMaiKaDe/bot', '/microsoft/BotBuilder-Samples', '/GAwesomeBot/bot', '/roughike/BottomBar', '/mithun-prasad/Bot', '/boto/boto3', '/howdyai/botkit', '/python-discord/bot', '/discord-tickets/bot', '/go-chat-bot/bot', '/SuMaiKaDe/bot', '/microsoft/BotBuilder-Samples', '/GAwesomeBot/bot', '/roughike/BottomBar', '/mithun-prasad/Bot', '/boto/boto3', '/howdyai/botkit', '/python-discord/bot', '/discord-tickets/bot', '/go-chat-bot/bot', '/SuMaiKaDe/bot', '/microsoft/BotBuilder-Samples', '/GAwesomeBot/bot', '/roughike/BottomBar', '/mithun-prasad/Bot', '/boto/boto3', '/howdyai/botkit', '/python-discord/bot', '/discord-tickets/bot', '/go-chat-bot/bot', '/SuMaiKaDe/bot', '/microsoft/BotBuilder-Samples', '/GAwesomeBot/bot', '/roughike/BottomBar', '/mithun-prasad/Bot', '/boto/boto3', '/howdyai/botkit']\n",
      "200\n",
      "['/python-discord/bot', '/discord-tickets/bot', '/go-chat-bot/bot', '/SuMaiKaDe/bot', '/microsoft/BotBuilder-Samples', '/GAwesomeBot/bot', '/roughike/BottomBar', '/mithun-prasad/Bot', '/boto/boto3', '/howdyai/botkit', '/python-discord/bot', '/discord-tickets/bot', '/go-chat-bot/bot', '/SuMaiKaDe/bot', '/microsoft/BotBuilder-Samples', '/GAwesomeBot/bot', '/roughike/BottomBar', '/mithun-prasad/Bot', '/boto/boto3', '/howdyai/botkit', '/python-discord/bot', '/discord-tickets/bot', '/go-chat-bot/bot', '/SuMaiKaDe/bot', '/microsoft/BotBuilder-Samples', '/GAwesomeBot/bot', '/roughike/BottomBar', '/mithun-prasad/Bot', '/boto/boto3', '/howdyai/botkit', '/python-discord/bot', '/discord-tickets/bot', '/go-chat-bot/bot', '/SuMaiKaDe/bot', '/microsoft/BotBuilder-Samples', '/GAwesomeBot/bot', '/roughike/BottomBar', '/mithun-prasad/Bot', '/boto/boto3', '/howdyai/botkit', '/python-discord/bot', '/discord-tickets/bot', '/go-chat-bot/bot', '/SuMaiKaDe/bot', '/microsoft/BotBuilder-Samples', '/GAwesomeBot/bot', '/roughike/BottomBar', '/mithun-prasad/Bot', '/boto/boto3', '/howdyai/botkit']\n",
      "200\n",
      "['/python-discord/bot', '/discord-tickets/bot', '/go-chat-bot/bot', '/SuMaiKaDe/bot', '/microsoft/BotBuilder-Samples', '/GAwesomeBot/bot', '/roughike/BottomBar', '/mithun-prasad/Bot', '/boto/boto3', '/howdyai/botkit', '/python-discord/bot', '/discord-tickets/bot', '/go-chat-bot/bot', '/SuMaiKaDe/bot', '/microsoft/BotBuilder-Samples', '/GAwesomeBot/bot', '/roughike/BottomBar', '/mithun-prasad/Bot', '/boto/boto3', '/howdyai/botkit', '/python-discord/bot', '/discord-tickets/bot', '/go-chat-bot/bot', '/SuMaiKaDe/bot', '/microsoft/BotBuilder-Samples', '/GAwesomeBot/bot', '/roughike/BottomBar', '/mithun-prasad/Bot', '/boto/boto3', '/howdyai/botkit', '/python-discord/bot', '/discord-tickets/bot', '/go-chat-bot/bot', '/SuMaiKaDe/bot', '/microsoft/BotBuilder-Samples', '/GAwesomeBot/bot', '/roughike/BottomBar', '/mithun-prasad/Bot', '/boto/boto3', '/howdyai/botkit', '/python-discord/bot', '/discord-tickets/bot', '/go-chat-bot/bot', '/SuMaiKaDe/bot', '/microsoft/BotBuilder-Samples', '/GAwesomeBot/bot', '/roughike/BottomBar', '/mithun-prasad/Bot', '/boto/boto3', '/howdyai/botkit', '/python-discord/bot', '/discord-tickets/bot', '/go-chat-bot/bot', '/SuMaiKaDe/bot', '/microsoft/BotBuilder-Samples', '/GAwesomeBot/bot', '/roughike/BottomBar', '/mithun-prasad/Bot', '/boto/boto3', '/howdyai/botkit']\n",
      "200\n",
      "['/python-discord/bot', '/discord-tickets/bot', '/go-chat-bot/bot', '/SuMaiKaDe/bot', '/microsoft/BotBuilder-Samples', '/GAwesomeBot/bot', '/roughike/BottomBar', '/mithun-prasad/Bot', '/boto/boto3', '/howdyai/botkit', '/python-discord/bot', '/discord-tickets/bot', '/go-chat-bot/bot', '/SuMaiKaDe/bot', '/microsoft/BotBuilder-Samples', '/GAwesomeBot/bot', '/roughike/BottomBar', '/mithun-prasad/Bot', '/boto/boto3', '/howdyai/botkit', '/python-discord/bot', '/discord-tickets/bot', '/go-chat-bot/bot', '/SuMaiKaDe/bot', '/microsoft/BotBuilder-Samples', '/GAwesomeBot/bot', '/roughike/BottomBar', '/mithun-prasad/Bot', '/boto/boto3', '/howdyai/botkit', '/python-discord/bot', '/discord-tickets/bot', '/go-chat-bot/bot', '/SuMaiKaDe/bot', '/microsoft/BotBuilder-Samples', '/GAwesomeBot/bot', '/roughike/BottomBar', '/mithun-prasad/Bot', '/boto/boto3', '/howdyai/botkit', '/python-discord/bot', '/discord-tickets/bot', '/go-chat-bot/bot', '/SuMaiKaDe/bot', '/microsoft/BotBuilder-Samples', '/GAwesomeBot/bot', '/roughike/BottomBar', '/mithun-prasad/Bot', '/boto/boto3', '/howdyai/botkit', '/python-discord/bot', '/discord-tickets/bot', '/go-chat-bot/bot', '/SuMaiKaDe/bot', '/microsoft/BotBuilder-Samples', '/GAwesomeBot/bot', '/roughike/BottomBar', '/mithun-prasad/Bot', '/boto/boto3', '/howdyai/botkit', '/python-discord/bot', '/discord-tickets/bot', '/go-chat-bot/bot', '/SuMaiKaDe/bot', '/microsoft/BotBuilder-Samples', '/GAwesomeBot/bot', '/roughike/BottomBar', '/mithun-prasad/Bot', '/boto/boto3', '/howdyai/botkit']\n",
      "200\n",
      "['/python-discord/bot', '/discord-tickets/bot', '/go-chat-bot/bot', '/SuMaiKaDe/bot', '/microsoft/BotBuilder-Samples', '/GAwesomeBot/bot', '/roughike/BottomBar', '/mithun-prasad/Bot', '/boto/boto3', '/howdyai/botkit', '/python-discord/bot', '/discord-tickets/bot', '/go-chat-bot/bot', '/SuMaiKaDe/bot', '/microsoft/BotBuilder-Samples', '/GAwesomeBot/bot', '/roughike/BottomBar', '/mithun-prasad/Bot', '/boto/boto3', '/howdyai/botkit', '/python-discord/bot', '/discord-tickets/bot', '/go-chat-bot/bot', '/SuMaiKaDe/bot', '/microsoft/BotBuilder-Samples', '/GAwesomeBot/bot', '/roughike/BottomBar', '/mithun-prasad/Bot', '/boto/boto3', '/howdyai/botkit', '/python-discord/bot', '/discord-tickets/bot', '/go-chat-bot/bot', '/SuMaiKaDe/bot', '/microsoft/BotBuilder-Samples', '/GAwesomeBot/bot', '/roughike/BottomBar', '/mithun-prasad/Bot', '/boto/boto3', '/howdyai/botkit', '/python-discord/bot', '/discord-tickets/bot', '/go-chat-bot/bot', '/SuMaiKaDe/bot', '/microsoft/BotBuilder-Samples', '/GAwesomeBot/bot', '/roughike/BottomBar', '/mithun-prasad/Bot', '/boto/boto3', '/howdyai/botkit', '/python-discord/bot', '/discord-tickets/bot', '/go-chat-bot/bot', '/SuMaiKaDe/bot', '/microsoft/BotBuilder-Samples', '/GAwesomeBot/bot', '/roughike/BottomBar', '/mithun-prasad/Bot', '/boto/boto3', '/howdyai/botkit', '/python-discord/bot', '/discord-tickets/bot', '/go-chat-bot/bot', '/SuMaiKaDe/bot', '/microsoft/BotBuilder-Samples', '/GAwesomeBot/bot', '/roughike/BottomBar', '/mithun-prasad/Bot', '/boto/boto3', '/howdyai/botkit', '/python-discord/bot', '/discord-tickets/bot', '/go-chat-bot/bot', '/SuMaiKaDe/bot', '/microsoft/BotBuilder-Samples', '/GAwesomeBot/bot', '/roughike/BottomBar', '/mithun-prasad/Bot', '/boto/boto3', '/howdyai/botkit']\n",
      "200\n",
      "['/python-discord/bot', '/discord-tickets/bot', '/go-chat-bot/bot', '/SuMaiKaDe/bot', '/microsoft/BotBuilder-Samples', '/GAwesomeBot/bot', '/roughike/BottomBar', '/mithun-prasad/Bot', '/boto/boto3', '/howdyai/botkit', '/python-discord/bot', '/discord-tickets/bot', '/go-chat-bot/bot', '/SuMaiKaDe/bot', '/microsoft/BotBuilder-Samples', '/GAwesomeBot/bot', '/roughike/BottomBar', '/mithun-prasad/Bot', '/boto/boto3', '/howdyai/botkit', '/python-discord/bot', '/discord-tickets/bot', '/go-chat-bot/bot', '/SuMaiKaDe/bot', '/microsoft/BotBuilder-Samples', '/GAwesomeBot/bot', '/roughike/BottomBar', '/mithun-prasad/Bot', '/boto/boto3', '/howdyai/botkit', '/python-discord/bot', '/discord-tickets/bot', '/go-chat-bot/bot', '/SuMaiKaDe/bot', '/microsoft/BotBuilder-Samples', '/GAwesomeBot/bot', '/roughike/BottomBar', '/mithun-prasad/Bot', '/boto/boto3', '/howdyai/botkit', '/python-discord/bot', '/discord-tickets/bot', '/go-chat-bot/bot', '/SuMaiKaDe/bot', '/microsoft/BotBuilder-Samples', '/GAwesomeBot/bot', '/roughike/BottomBar', '/mithun-prasad/Bot', '/boto/boto3', '/howdyai/botkit', '/python-discord/bot', '/discord-tickets/bot', '/go-chat-bot/bot', '/SuMaiKaDe/bot', '/microsoft/BotBuilder-Samples', '/GAwesomeBot/bot', '/roughike/BottomBar', '/mithun-prasad/Bot', '/boto/boto3', '/howdyai/botkit', '/python-discord/bot', '/discord-tickets/bot', '/go-chat-bot/bot', '/SuMaiKaDe/bot', '/microsoft/BotBuilder-Samples', '/GAwesomeBot/bot', '/roughike/BottomBar', '/mithun-prasad/Bot', '/boto/boto3', '/howdyai/botkit', '/python-discord/bot', '/discord-tickets/bot', '/go-chat-bot/bot', '/SuMaiKaDe/bot', '/microsoft/BotBuilder-Samples', '/GAwesomeBot/bot', '/roughike/BottomBar', '/mithun-prasad/Bot', '/boto/boto3', '/howdyai/botkit', '/python-discord/bot', '/discord-tickets/bot', '/go-chat-bot/bot', '/SuMaiKaDe/bot', '/microsoft/BotBuilder-Samples', '/GAwesomeBot/bot', '/roughike/BottomBar', '/mithun-prasad/Bot', '/boto/boto3', '/howdyai/botkit']\n"
     ]
    },
    {
     "name": "stdout",
     "output_type": "stream",
     "text": [
      "200\n",
      "['/python-discord/bot', '/discord-tickets/bot', '/go-chat-bot/bot', '/SuMaiKaDe/bot', '/microsoft/BotBuilder-Samples', '/GAwesomeBot/bot', '/roughike/BottomBar', '/mithun-prasad/Bot', '/boto/boto3', '/howdyai/botkit', '/python-discord/bot', '/discord-tickets/bot', '/go-chat-bot/bot', '/SuMaiKaDe/bot', '/microsoft/BotBuilder-Samples', '/GAwesomeBot/bot', '/roughike/BottomBar', '/mithun-prasad/Bot', '/boto/boto3', '/howdyai/botkit', '/python-discord/bot', '/discord-tickets/bot', '/go-chat-bot/bot', '/SuMaiKaDe/bot', '/microsoft/BotBuilder-Samples', '/GAwesomeBot/bot', '/roughike/BottomBar', '/mithun-prasad/Bot', '/boto/boto3', '/howdyai/botkit', '/python-discord/bot', '/discord-tickets/bot', '/go-chat-bot/bot', '/SuMaiKaDe/bot', '/microsoft/BotBuilder-Samples', '/GAwesomeBot/bot', '/roughike/BottomBar', '/mithun-prasad/Bot', '/boto/boto3', '/howdyai/botkit', '/python-discord/bot', '/discord-tickets/bot', '/go-chat-bot/bot', '/SuMaiKaDe/bot', '/microsoft/BotBuilder-Samples', '/GAwesomeBot/bot', '/roughike/BottomBar', '/mithun-prasad/Bot', '/boto/boto3', '/howdyai/botkit', '/python-discord/bot', '/discord-tickets/bot', '/go-chat-bot/bot', '/SuMaiKaDe/bot', '/microsoft/BotBuilder-Samples', '/GAwesomeBot/bot', '/roughike/BottomBar', '/mithun-prasad/Bot', '/boto/boto3', '/howdyai/botkit', '/python-discord/bot', '/discord-tickets/bot', '/go-chat-bot/bot', '/SuMaiKaDe/bot', '/microsoft/BotBuilder-Samples', '/GAwesomeBot/bot', '/roughike/BottomBar', '/mithun-prasad/Bot', '/boto/boto3', '/howdyai/botkit', '/python-discord/bot', '/discord-tickets/bot', '/go-chat-bot/bot', '/SuMaiKaDe/bot', '/microsoft/BotBuilder-Samples', '/GAwesomeBot/bot', '/roughike/BottomBar', '/mithun-prasad/Bot', '/boto/boto3', '/howdyai/botkit', '/python-discord/bot', '/discord-tickets/bot', '/go-chat-bot/bot', '/SuMaiKaDe/bot', '/microsoft/BotBuilder-Samples', '/GAwesomeBot/bot', '/roughike/BottomBar', '/mithun-prasad/Bot', '/boto/boto3', '/howdyai/botkit', '/python-discord/bot', '/discord-tickets/bot', '/go-chat-bot/bot', '/SuMaiKaDe/bot', '/microsoft/BotBuilder-Samples', '/GAwesomeBot/bot', '/roughike/BottomBar', '/mithun-prasad/Bot', '/boto/boto3', '/howdyai/botkit']\n",
      "200\n",
      "['/python-discord/bot', '/discord-tickets/bot', '/go-chat-bot/bot', '/SuMaiKaDe/bot', '/microsoft/BotBuilder-Samples', '/GAwesomeBot/bot', '/roughike/BottomBar', '/mithun-prasad/Bot', '/boto/boto3', '/howdyai/botkit', '/python-discord/bot', '/discord-tickets/bot', '/go-chat-bot/bot', '/SuMaiKaDe/bot', '/microsoft/BotBuilder-Samples', '/GAwesomeBot/bot', '/roughike/BottomBar', '/mithun-prasad/Bot', '/boto/boto3', '/howdyai/botkit', '/python-discord/bot', '/discord-tickets/bot', '/go-chat-bot/bot', '/SuMaiKaDe/bot', '/microsoft/BotBuilder-Samples', '/GAwesomeBot/bot', '/roughike/BottomBar', '/mithun-prasad/Bot', '/boto/boto3', '/howdyai/botkit', '/python-discord/bot', '/discord-tickets/bot', '/go-chat-bot/bot', '/SuMaiKaDe/bot', '/microsoft/BotBuilder-Samples', '/GAwesomeBot/bot', '/roughike/BottomBar', '/mithun-prasad/Bot', '/boto/boto3', '/howdyai/botkit', '/python-discord/bot', '/discord-tickets/bot', '/go-chat-bot/bot', '/SuMaiKaDe/bot', '/microsoft/BotBuilder-Samples', '/GAwesomeBot/bot', '/roughike/BottomBar', '/mithun-prasad/Bot', '/boto/boto3', '/howdyai/botkit', '/python-discord/bot', '/discord-tickets/bot', '/go-chat-bot/bot', '/SuMaiKaDe/bot', '/microsoft/BotBuilder-Samples', '/GAwesomeBot/bot', '/roughike/BottomBar', '/mithun-prasad/Bot', '/boto/boto3', '/howdyai/botkit', '/python-discord/bot', '/discord-tickets/bot', '/go-chat-bot/bot', '/SuMaiKaDe/bot', '/microsoft/BotBuilder-Samples', '/GAwesomeBot/bot', '/roughike/BottomBar', '/mithun-prasad/Bot', '/boto/boto3', '/howdyai/botkit', '/python-discord/bot', '/discord-tickets/bot', '/go-chat-bot/bot', '/SuMaiKaDe/bot', '/microsoft/BotBuilder-Samples', '/GAwesomeBot/bot', '/roughike/BottomBar', '/mithun-prasad/Bot', '/boto/boto3', '/howdyai/botkit', '/python-discord/bot', '/discord-tickets/bot', '/go-chat-bot/bot', '/SuMaiKaDe/bot', '/microsoft/BotBuilder-Samples', '/GAwesomeBot/bot', '/roughike/BottomBar', '/mithun-prasad/Bot', '/boto/boto3', '/howdyai/botkit', '/python-discord/bot', '/discord-tickets/bot', '/go-chat-bot/bot', '/SuMaiKaDe/bot', '/microsoft/BotBuilder-Samples', '/GAwesomeBot/bot', '/roughike/BottomBar', '/mithun-prasad/Bot', '/boto/boto3', '/howdyai/botkit', '/python-discord/bot', '/discord-tickets/bot', '/go-chat-bot/bot', '/SuMaiKaDe/bot', '/microsoft/BotBuilder-Samples', '/GAwesomeBot/bot', '/roughike/BottomBar', '/mithun-prasad/Bot', '/boto/boto3', '/thinkpixellab/bot']\n",
      "200\n",
      "['/python-discord/bot', '/discord-tickets/bot', '/go-chat-bot/bot', '/SuMaiKaDe/bot', '/microsoft/BotBuilder-Samples', '/GAwesomeBot/bot', '/roughike/BottomBar', '/mithun-prasad/Bot', '/boto/boto3', '/howdyai/botkit', '/python-discord/bot', '/discord-tickets/bot', '/go-chat-bot/bot', '/SuMaiKaDe/bot', '/microsoft/BotBuilder-Samples', '/GAwesomeBot/bot', '/roughike/BottomBar', '/mithun-prasad/Bot', '/boto/boto3', '/howdyai/botkit', '/python-discord/bot', '/discord-tickets/bot', '/go-chat-bot/bot', '/SuMaiKaDe/bot', '/microsoft/BotBuilder-Samples', '/GAwesomeBot/bot', '/roughike/BottomBar', '/mithun-prasad/Bot', '/boto/boto3', '/howdyai/botkit', '/python-discord/bot', '/discord-tickets/bot', '/go-chat-bot/bot', '/SuMaiKaDe/bot', '/microsoft/BotBuilder-Samples', '/GAwesomeBot/bot', '/roughike/BottomBar', '/mithun-prasad/Bot', '/boto/boto3', '/howdyai/botkit', '/python-discord/bot', '/discord-tickets/bot', '/go-chat-bot/bot', '/SuMaiKaDe/bot', '/microsoft/BotBuilder-Samples', '/GAwesomeBot/bot', '/roughike/BottomBar', '/mithun-prasad/Bot', '/boto/boto3', '/howdyai/botkit', '/python-discord/bot', '/discord-tickets/bot', '/go-chat-bot/bot', '/SuMaiKaDe/bot', '/microsoft/BotBuilder-Samples', '/GAwesomeBot/bot', '/roughike/BottomBar', '/mithun-prasad/Bot', '/boto/boto3', '/howdyai/botkit', '/python-discord/bot', '/discord-tickets/bot', '/go-chat-bot/bot', '/SuMaiKaDe/bot', '/microsoft/BotBuilder-Samples', '/GAwesomeBot/bot', '/roughike/BottomBar', '/mithun-prasad/Bot', '/boto/boto3', '/howdyai/botkit', '/python-discord/bot', '/discord-tickets/bot', '/go-chat-bot/bot', '/SuMaiKaDe/bot', '/microsoft/BotBuilder-Samples', '/GAwesomeBot/bot', '/roughike/BottomBar', '/mithun-prasad/Bot', '/boto/boto3', '/howdyai/botkit', '/python-discord/bot', '/discord-tickets/bot', '/go-chat-bot/bot', '/SuMaiKaDe/bot', '/microsoft/BotBuilder-Samples', '/GAwesomeBot/bot', '/roughike/BottomBar', '/mithun-prasad/Bot', '/boto/boto3', '/howdyai/botkit', '/python-discord/bot', '/discord-tickets/bot', '/go-chat-bot/bot', '/SuMaiKaDe/bot', '/microsoft/BotBuilder-Samples', '/GAwesomeBot/bot', '/roughike/BottomBar', '/mithun-prasad/Bot', '/boto/boto3', '/howdyai/botkit', '/python-discord/bot', '/discord-tickets/bot', '/go-chat-bot/bot', '/SuMaiKaDe/bot', '/microsoft/BotBuilder-Samples', '/GAwesomeBot/bot', '/roughike/BottomBar', '/mithun-prasad/Bot', '/boto/boto3', '/thinkpixellab/bot', '/python-discord/bot', '/discord-tickets/bot', '/go-chat-bot/bot', '/SuMaiKaDe/bot', '/microsoft/BotBuilder-Samples', '/GAwesomeBot/bot', '/roughike/BottomBar', '/mithun-prasad/Bot', '/boto/boto3', '/thinkpixellab/bot']\n",
      "200\n",
      "['/python-discord/bot', '/discord-tickets/bot', '/go-chat-bot/bot', '/SuMaiKaDe/bot', '/microsoft/BotBuilder-Samples', '/GAwesomeBot/bot', '/roughike/BottomBar', '/mithun-prasad/Bot', '/boto/boto3', '/howdyai/botkit', '/python-discord/bot', '/discord-tickets/bot', '/go-chat-bot/bot', '/SuMaiKaDe/bot', '/microsoft/BotBuilder-Samples', '/GAwesomeBot/bot', '/roughike/BottomBar', '/mithun-prasad/Bot', '/boto/boto3', '/howdyai/botkit', '/python-discord/bot', '/discord-tickets/bot', '/go-chat-bot/bot', '/SuMaiKaDe/bot', '/microsoft/BotBuilder-Samples', '/GAwesomeBot/bot', '/roughike/BottomBar', '/mithun-prasad/Bot', '/boto/boto3', '/howdyai/botkit', '/python-discord/bot', '/discord-tickets/bot', '/go-chat-bot/bot', '/SuMaiKaDe/bot', '/microsoft/BotBuilder-Samples', '/GAwesomeBot/bot', '/roughike/BottomBar', '/mithun-prasad/Bot', '/boto/boto3', '/howdyai/botkit', '/python-discord/bot', '/discord-tickets/bot', '/go-chat-bot/bot', '/SuMaiKaDe/bot', '/microsoft/BotBuilder-Samples', '/GAwesomeBot/bot', '/roughike/BottomBar', '/mithun-prasad/Bot', '/boto/boto3', '/howdyai/botkit', '/python-discord/bot', '/discord-tickets/bot', '/go-chat-bot/bot', '/SuMaiKaDe/bot', '/microsoft/BotBuilder-Samples', '/GAwesomeBot/bot', '/roughike/BottomBar', '/mithun-prasad/Bot', '/boto/boto3', '/howdyai/botkit', '/python-discord/bot', '/discord-tickets/bot', '/go-chat-bot/bot', '/SuMaiKaDe/bot', '/microsoft/BotBuilder-Samples', '/GAwesomeBot/bot', '/roughike/BottomBar', '/mithun-prasad/Bot', '/boto/boto3', '/howdyai/botkit', '/python-discord/bot', '/discord-tickets/bot', '/go-chat-bot/bot', '/SuMaiKaDe/bot', '/microsoft/BotBuilder-Samples', '/GAwesomeBot/bot', '/roughike/BottomBar', '/mithun-prasad/Bot', '/boto/boto3', '/howdyai/botkit', '/python-discord/bot', '/discord-tickets/bot', '/go-chat-bot/bot', '/SuMaiKaDe/bot', '/microsoft/BotBuilder-Samples', '/GAwesomeBot/bot', '/roughike/BottomBar', '/mithun-prasad/Bot', '/boto/boto3', '/howdyai/botkit', '/python-discord/bot', '/discord-tickets/bot', '/go-chat-bot/bot', '/SuMaiKaDe/bot', '/microsoft/BotBuilder-Samples', '/GAwesomeBot/bot', '/roughike/BottomBar', '/mithun-prasad/Bot', '/boto/boto3', '/howdyai/botkit', '/python-discord/bot', '/discord-tickets/bot', '/go-chat-bot/bot', '/SuMaiKaDe/bot', '/microsoft/BotBuilder-Samples', '/GAwesomeBot/bot', '/roughike/BottomBar', '/mithun-prasad/Bot', '/boto/boto3', '/thinkpixellab/bot', '/python-discord/bot', '/discord-tickets/bot', '/go-chat-bot/bot', '/SuMaiKaDe/bot', '/microsoft/BotBuilder-Samples', '/GAwesomeBot/bot', '/roughike/BottomBar', '/mithun-prasad/Bot', '/boto/boto3', '/thinkpixellab/bot', '/python-discord/bot', '/discord-tickets/bot', '/go-chat-bot/bot', '/SuMaiKaDe/bot', '/microsoft/BotBuilder-Samples', '/GAwesomeBot/bot', '/roughike/BottomBar', '/mithun-prasad/Bot', '/boto/boto3', '/thinkpixellab/bot']\n"
     ]
    },
    {
     "name": "stdout",
     "output_type": "stream",
     "text": [
      "200\n",
      "['/python-discord/bot', '/discord-tickets/bot', '/go-chat-bot/bot', '/SuMaiKaDe/bot', '/microsoft/BotBuilder-Samples', '/GAwesomeBot/bot', '/roughike/BottomBar', '/mithun-prasad/Bot', '/boto/boto3', '/howdyai/botkit', '/python-discord/bot', '/discord-tickets/bot', '/go-chat-bot/bot', '/SuMaiKaDe/bot', '/microsoft/BotBuilder-Samples', '/GAwesomeBot/bot', '/roughike/BottomBar', '/mithun-prasad/Bot', '/boto/boto3', '/howdyai/botkit', '/python-discord/bot', '/discord-tickets/bot', '/go-chat-bot/bot', '/SuMaiKaDe/bot', '/microsoft/BotBuilder-Samples', '/GAwesomeBot/bot', '/roughike/BottomBar', '/mithun-prasad/Bot', '/boto/boto3', '/howdyai/botkit', '/python-discord/bot', '/discord-tickets/bot', '/go-chat-bot/bot', '/SuMaiKaDe/bot', '/microsoft/BotBuilder-Samples', '/GAwesomeBot/bot', '/roughike/BottomBar', '/mithun-prasad/Bot', '/boto/boto3', '/howdyai/botkit', '/python-discord/bot', '/discord-tickets/bot', '/go-chat-bot/bot', '/SuMaiKaDe/bot', '/microsoft/BotBuilder-Samples', '/GAwesomeBot/bot', '/roughike/BottomBar', '/mithun-prasad/Bot', '/boto/boto3', '/howdyai/botkit', '/python-discord/bot', '/discord-tickets/bot', '/go-chat-bot/bot', '/SuMaiKaDe/bot', '/microsoft/BotBuilder-Samples', '/GAwesomeBot/bot', '/roughike/BottomBar', '/mithun-prasad/Bot', '/boto/boto3', '/howdyai/botkit', '/python-discord/bot', '/discord-tickets/bot', '/go-chat-bot/bot', '/SuMaiKaDe/bot', '/microsoft/BotBuilder-Samples', '/GAwesomeBot/bot', '/roughike/BottomBar', '/mithun-prasad/Bot', '/boto/boto3', '/howdyai/botkit', '/python-discord/bot', '/discord-tickets/bot', '/go-chat-bot/bot', '/SuMaiKaDe/bot', '/microsoft/BotBuilder-Samples', '/GAwesomeBot/bot', '/roughike/BottomBar', '/mithun-prasad/Bot', '/boto/boto3', '/howdyai/botkit', '/python-discord/bot', '/discord-tickets/bot', '/go-chat-bot/bot', '/SuMaiKaDe/bot', '/microsoft/BotBuilder-Samples', '/GAwesomeBot/bot', '/roughike/BottomBar', '/mithun-prasad/Bot', '/boto/boto3', '/howdyai/botkit', '/python-discord/bot', '/discord-tickets/bot', '/go-chat-bot/bot', '/SuMaiKaDe/bot', '/microsoft/BotBuilder-Samples', '/GAwesomeBot/bot', '/roughike/BottomBar', '/mithun-prasad/Bot', '/boto/boto3', '/howdyai/botkit', '/python-discord/bot', '/discord-tickets/bot', '/go-chat-bot/bot', '/SuMaiKaDe/bot', '/microsoft/BotBuilder-Samples', '/GAwesomeBot/bot', '/roughike/BottomBar', '/mithun-prasad/Bot', '/boto/boto3', '/thinkpixellab/bot', '/python-discord/bot', '/discord-tickets/bot', '/go-chat-bot/bot', '/SuMaiKaDe/bot', '/microsoft/BotBuilder-Samples', '/GAwesomeBot/bot', '/roughike/BottomBar', '/mithun-prasad/Bot', '/boto/boto3', '/thinkpixellab/bot', '/python-discord/bot', '/discord-tickets/bot', '/go-chat-bot/bot', '/SuMaiKaDe/bot', '/microsoft/BotBuilder-Samples', '/GAwesomeBot/bot', '/roughike/BottomBar', '/mithun-prasad/Bot', '/boto/boto3', '/thinkpixellab/bot', '/python-discord/bot', '/discord-tickets/bot', '/go-chat-bot/bot', '/SuMaiKaDe/bot', '/microsoft/BotBuilder-Samples', '/GAwesomeBot/bot', '/roughike/BottomBar', '/mithun-prasad/Bot', '/boto/boto3', '/thinkpixellab/bot']\n",
      "200\n",
      "['/python-discord/bot', '/discord-tickets/bot', '/go-chat-bot/bot', '/SuMaiKaDe/bot', '/microsoft/BotBuilder-Samples', '/GAwesomeBot/bot', '/roughike/BottomBar', '/mithun-prasad/Bot', '/boto/boto3', '/howdyai/botkit', '/python-discord/bot', '/discord-tickets/bot', '/go-chat-bot/bot', '/SuMaiKaDe/bot', '/microsoft/BotBuilder-Samples', '/GAwesomeBot/bot', '/roughike/BottomBar', '/mithun-prasad/Bot', '/boto/boto3', '/howdyai/botkit', '/python-discord/bot', '/discord-tickets/bot', '/go-chat-bot/bot', '/SuMaiKaDe/bot', '/microsoft/BotBuilder-Samples', '/GAwesomeBot/bot', '/roughike/BottomBar', '/mithun-prasad/Bot', '/boto/boto3', '/howdyai/botkit', '/python-discord/bot', '/discord-tickets/bot', '/go-chat-bot/bot', '/SuMaiKaDe/bot', '/microsoft/BotBuilder-Samples', '/GAwesomeBot/bot', '/roughike/BottomBar', '/mithun-prasad/Bot', '/boto/boto3', '/howdyai/botkit', '/python-discord/bot', '/discord-tickets/bot', '/go-chat-bot/bot', '/SuMaiKaDe/bot', '/microsoft/BotBuilder-Samples', '/GAwesomeBot/bot', '/roughike/BottomBar', '/mithun-prasad/Bot', '/boto/boto3', '/howdyai/botkit', '/python-discord/bot', '/discord-tickets/bot', '/go-chat-bot/bot', '/SuMaiKaDe/bot', '/microsoft/BotBuilder-Samples', '/GAwesomeBot/bot', '/roughike/BottomBar', '/mithun-prasad/Bot', '/boto/boto3', '/howdyai/botkit', '/python-discord/bot', '/discord-tickets/bot', '/go-chat-bot/bot', '/SuMaiKaDe/bot', '/microsoft/BotBuilder-Samples', '/GAwesomeBot/bot', '/roughike/BottomBar', '/mithun-prasad/Bot', '/boto/boto3', '/howdyai/botkit', '/python-discord/bot', '/discord-tickets/bot', '/go-chat-bot/bot', '/SuMaiKaDe/bot', '/microsoft/BotBuilder-Samples', '/GAwesomeBot/bot', '/roughike/BottomBar', '/mithun-prasad/Bot', '/boto/boto3', '/howdyai/botkit', '/python-discord/bot', '/discord-tickets/bot', '/go-chat-bot/bot', '/SuMaiKaDe/bot', '/microsoft/BotBuilder-Samples', '/GAwesomeBot/bot', '/roughike/BottomBar', '/mithun-prasad/Bot', '/boto/boto3', '/howdyai/botkit', '/python-discord/bot', '/discord-tickets/bot', '/go-chat-bot/bot', '/SuMaiKaDe/bot', '/microsoft/BotBuilder-Samples', '/GAwesomeBot/bot', '/roughike/BottomBar', '/mithun-prasad/Bot', '/boto/boto3', '/howdyai/botkit', '/python-discord/bot', '/discord-tickets/bot', '/go-chat-bot/bot', '/SuMaiKaDe/bot', '/microsoft/BotBuilder-Samples', '/GAwesomeBot/bot', '/roughike/BottomBar', '/mithun-prasad/Bot', '/boto/boto3', '/thinkpixellab/bot', '/python-discord/bot', '/discord-tickets/bot', '/go-chat-bot/bot', '/SuMaiKaDe/bot', '/microsoft/BotBuilder-Samples', '/GAwesomeBot/bot', '/roughike/BottomBar', '/mithun-prasad/Bot', '/boto/boto3', '/thinkpixellab/bot', '/python-discord/bot', '/discord-tickets/bot', '/go-chat-bot/bot', '/SuMaiKaDe/bot', '/microsoft/BotBuilder-Samples', '/GAwesomeBot/bot', '/roughike/BottomBar', '/mithun-prasad/Bot', '/boto/boto3', '/thinkpixellab/bot', '/python-discord/bot', '/discord-tickets/bot', '/go-chat-bot/bot', '/SuMaiKaDe/bot', '/microsoft/BotBuilder-Samples', '/GAwesomeBot/bot', '/roughike/BottomBar', '/mithun-prasad/Bot', '/boto/boto3', '/thinkpixellab/bot', '/python-discord/bot', '/discord-tickets/bot', '/go-chat-bot/bot', '/SuMaiKaDe/bot', '/microsoft/BotBuilder-Samples', '/GAwesomeBot/bot', '/roughike/BottomBar', '/mithun-prasad/Bot', '/boto/boto3', '/thinkpixellab/bot']\n"
     ]
    },
    {
     "data": {
      "text/plain": [
       "['/python-discord/bot',\n",
       " '/discord-tickets/bot',\n",
       " '/go-chat-bot/bot',\n",
       " '/SuMaiKaDe/bot',\n",
       " '/microsoft/BotBuilder-Samples',\n",
       " '/GAwesomeBot/bot',\n",
       " '/roughike/BottomBar',\n",
       " '/mithun-prasad/Bot',\n",
       " '/boto/boto3',\n",
       " '/howdyai/botkit',\n",
       " '/python-discord/bot',\n",
       " '/discord-tickets/bot',\n",
       " '/go-chat-bot/bot',\n",
       " '/SuMaiKaDe/bot',\n",
       " '/microsoft/BotBuilder-Samples',\n",
       " '/GAwesomeBot/bot',\n",
       " '/roughike/BottomBar',\n",
       " '/mithun-prasad/Bot',\n",
       " '/boto/boto3',\n",
       " '/howdyai/botkit',\n",
       " '/python-discord/bot',\n",
       " '/discord-tickets/bot',\n",
       " '/go-chat-bot/bot',\n",
       " '/SuMaiKaDe/bot',\n",
       " '/microsoft/BotBuilder-Samples',\n",
       " '/GAwesomeBot/bot',\n",
       " '/roughike/BottomBar',\n",
       " '/mithun-prasad/Bot',\n",
       " '/boto/boto3',\n",
       " '/howdyai/botkit',\n",
       " '/python-discord/bot',\n",
       " '/discord-tickets/bot',\n",
       " '/go-chat-bot/bot',\n",
       " '/SuMaiKaDe/bot',\n",
       " '/microsoft/BotBuilder-Samples',\n",
       " '/GAwesomeBot/bot',\n",
       " '/roughike/BottomBar',\n",
       " '/mithun-prasad/Bot',\n",
       " '/boto/boto3',\n",
       " '/howdyai/botkit',\n",
       " '/python-discord/bot',\n",
       " '/discord-tickets/bot',\n",
       " '/go-chat-bot/bot',\n",
       " '/SuMaiKaDe/bot',\n",
       " '/microsoft/BotBuilder-Samples',\n",
       " '/GAwesomeBot/bot',\n",
       " '/roughike/BottomBar',\n",
       " '/mithun-prasad/Bot',\n",
       " '/boto/boto3',\n",
       " '/howdyai/botkit',\n",
       " '/python-discord/bot',\n",
       " '/discord-tickets/bot',\n",
       " '/go-chat-bot/bot',\n",
       " '/SuMaiKaDe/bot',\n",
       " '/microsoft/BotBuilder-Samples',\n",
       " '/GAwesomeBot/bot',\n",
       " '/roughike/BottomBar',\n",
       " '/mithun-prasad/Bot',\n",
       " '/boto/boto3',\n",
       " '/howdyai/botkit',\n",
       " '/python-discord/bot',\n",
       " '/discord-tickets/bot',\n",
       " '/go-chat-bot/bot',\n",
       " '/SuMaiKaDe/bot',\n",
       " '/microsoft/BotBuilder-Samples',\n",
       " '/GAwesomeBot/bot',\n",
       " '/roughike/BottomBar',\n",
       " '/mithun-prasad/Bot',\n",
       " '/boto/boto3',\n",
       " '/howdyai/botkit',\n",
       " '/python-discord/bot',\n",
       " '/discord-tickets/bot',\n",
       " '/go-chat-bot/bot',\n",
       " '/SuMaiKaDe/bot',\n",
       " '/microsoft/BotBuilder-Samples',\n",
       " '/GAwesomeBot/bot',\n",
       " '/roughike/BottomBar',\n",
       " '/mithun-prasad/Bot',\n",
       " '/boto/boto3',\n",
       " '/howdyai/botkit',\n",
       " '/python-discord/bot',\n",
       " '/discord-tickets/bot',\n",
       " '/go-chat-bot/bot',\n",
       " '/SuMaiKaDe/bot',\n",
       " '/microsoft/BotBuilder-Samples',\n",
       " '/GAwesomeBot/bot',\n",
       " '/roughike/BottomBar',\n",
       " '/mithun-prasad/Bot',\n",
       " '/boto/boto3',\n",
       " '/howdyai/botkit',\n",
       " '/python-discord/bot',\n",
       " '/discord-tickets/bot',\n",
       " '/go-chat-bot/bot',\n",
       " '/SuMaiKaDe/bot',\n",
       " '/microsoft/BotBuilder-Samples',\n",
       " '/GAwesomeBot/bot',\n",
       " '/roughike/BottomBar',\n",
       " '/mithun-prasad/Bot',\n",
       " '/boto/boto3',\n",
       " '/howdyai/botkit',\n",
       " '/python-discord/bot',\n",
       " '/discord-tickets/bot',\n",
       " '/go-chat-bot/bot',\n",
       " '/SuMaiKaDe/bot',\n",
       " '/microsoft/BotBuilder-Samples',\n",
       " '/GAwesomeBot/bot',\n",
       " '/roughike/BottomBar',\n",
       " '/mithun-prasad/Bot',\n",
       " '/boto/boto3',\n",
       " '/thinkpixellab/bot',\n",
       " '/python-discord/bot',\n",
       " '/discord-tickets/bot',\n",
       " '/go-chat-bot/bot',\n",
       " '/SuMaiKaDe/bot',\n",
       " '/microsoft/BotBuilder-Samples',\n",
       " '/GAwesomeBot/bot',\n",
       " '/roughike/BottomBar',\n",
       " '/mithun-prasad/Bot',\n",
       " '/boto/boto3',\n",
       " '/thinkpixellab/bot',\n",
       " '/python-discord/bot',\n",
       " '/discord-tickets/bot',\n",
       " '/go-chat-bot/bot',\n",
       " '/SuMaiKaDe/bot',\n",
       " '/microsoft/BotBuilder-Samples',\n",
       " '/GAwesomeBot/bot',\n",
       " '/roughike/BottomBar',\n",
       " '/mithun-prasad/Bot',\n",
       " '/boto/boto3',\n",
       " '/thinkpixellab/bot',\n",
       " '/python-discord/bot',\n",
       " '/discord-tickets/bot',\n",
       " '/go-chat-bot/bot',\n",
       " '/SuMaiKaDe/bot',\n",
       " '/microsoft/BotBuilder-Samples',\n",
       " '/GAwesomeBot/bot',\n",
       " '/roughike/BottomBar',\n",
       " '/mithun-prasad/Bot',\n",
       " '/boto/boto3',\n",
       " '/thinkpixellab/bot',\n",
       " '/python-discord/bot',\n",
       " '/discord-tickets/bot',\n",
       " '/go-chat-bot/bot',\n",
       " '/SuMaiKaDe/bot',\n",
       " '/microsoft/BotBuilder-Samples',\n",
       " '/GAwesomeBot/bot',\n",
       " '/roughike/BottomBar',\n",
       " '/mithun-prasad/Bot',\n",
       " '/boto/boto3',\n",
       " '/thinkpixellab/bot']"
      ]
     },
     "execution_count": 5,
     "metadata": {},
     "output_type": "execute_result"
    }
   ],
   "source": [
    "collector = []\n",
    "\n",
    "link = 'https://github.com/search?p={i}&q=bot&type=Repositories'\n",
    "\n",
    "for i in range(16,31):\n",
    "    response = requests.get(link, headers={'user-agent': 'codeup data science hopper cohort'})\n",
    "    print(response.status_code)\n",
    "    html = response.text\n",
    "    soup = BeautifulSoup(html)\n",
    "    repos = soup.select('a.v-align-middle')\n",
    "    repo_links = [repo['href'] for repo in repos]\n",
    "    collector += repo_links\n",
    "    print(collector)\n",
    "\n",
    "    if i % 5 == 0:\n",
    "        time.sleep(60)\n",
    "        \n",
    "collector"
   ]
  },
  {
   "cell_type": "code",
   "execution_count": null,
   "id": "59dd17d0",
   "metadata": {},
   "outputs": [],
   "source": [
    "collector"
   ]
  },
  {
   "cell_type": "code",
   "execution_count": null,
   "id": "57426ade",
   "metadata": {},
   "outputs": [],
   "source": [
    "len(collector)"
   ]
  },
  {
   "cell_type": "code",
   "execution_count": null,
   "id": "4749c719",
   "metadata": {},
   "outputs": [],
   "source": [
    "accumulator = []\n",
    "for item in collector:\n",
    "    accumulator.append(item[1:])\n",
    "accumulator"
   ]
  },
  {
   "cell_type": "code",
   "execution_count": 2,
   "id": "33ef7c14",
   "metadata": {},
   "outputs": [],
   "source": [
    "# def isEnglish(s):\n",
    "#     try:\n",
    "#         s.encode(encoding='utf-8').decode('ascii')\n",
    "        \n",
    "#     except UnicodeDecodeError:\n",
    "#         return False\n",
    "#     else:\n",
    "#         return True"
   ]
  },
  {
   "cell_type": "code",
   "execution_count": null,
   "id": "7eb09c23",
   "metadata": {},
   "outputs": [],
   "source": []
  }
 ],
 "metadata": {
  "kernelspec": {
   "display_name": "Python 3",
   "language": "python",
   "name": "python3"
  },
  "language_info": {
   "codemirror_mode": {
    "name": "ipython",
    "version": 3
   },
   "file_extension": ".py",
   "mimetype": "text/x-python",
   "name": "python",
   "nbconvert_exporter": "python",
   "pygments_lexer": "ipython3",
   "version": "3.8.8"
  }
 },
 "nbformat": 4,
 "nbformat_minor": 5
}
