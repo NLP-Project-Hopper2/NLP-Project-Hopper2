{
 "cells": [
  {
   "cell_type": "code",
   "execution_count": 1,
   "id": "2b1fc729",
   "metadata": {},
   "outputs": [],
   "source": [
    "import requests\n",
    "from bs4 import BeautifulSoup\n",
    "import os\n",
    "import time\n",
    "import acquire"
   ]
  },
  {
   "cell_type": "code",
   "execution_count": null,
   "id": "7c1f6dbf",
   "metadata": {},
   "outputs": [],
   "source": [
    "time.sleep(#): print()"
   ]
  },
  {
   "cell_type": "code",
   "execution_count": null,
   "id": "d231c4d4",
   "metadata": {},
   "outputs": [],
   "source": [
    "link = 'https://github.com/search?p=1&q=bot&type=Repositories'\n",
    "\n",
    "# make the request using the link of the first article and save html response to a variable\n",
    "response = requests.get(link, headers={'user-agent': 'codeup data science hopper cohort'})\n",
    "html = response.text\n",
    "html"
   ]
  },
  {
   "cell_type": "code",
   "execution_count": null,
   "id": "27bfa5a1",
   "metadata": {},
   "outputs": [],
   "source": [
    "soup = BeautifulSoup(html)\n",
    "print(soup.prettify())"
   ]
  },
  {
   "cell_type": "code",
   "execution_count": null,
   "id": "7e781185",
   "metadata": {},
   "outputs": [],
   "source": [
    "# articles = soup.find_all('data-hydro-click')\n",
    "# articles = soup.select('.v-align-middle')['href']\n",
    "articles = soup.select('a.v-align-middle')\n",
    "articles"
   ]
  },
  {
   "cell_type": "code",
   "execution_count": null,
   "id": "046b0c05",
   "metadata": {},
   "outputs": [],
   "source": [
    "repos = [article['href'] for article in articles]\n",
    "repos"
   ]
  },
  {
   "cell_type": "code",
   "execution_count": null,
   "id": "5fb27d1b",
   "metadata": {},
   "outputs": [],
   "source": [
    "url = 'https://codeup.com/data-science/math-in-data-science/'\n",
    "headers = {'User-Agent': 'Codeup Data Science'} # Some websites don't accept the pyhon-requests default user-agent\n",
    "response = get(url, headers=headers)"
   ]
  },
  {
   "cell_type": "code",
   "execution_count": null,
   "id": "776eec6d",
   "metadata": {},
   "outputs": [],
   "source": [
    "collector = []\n",
    "\n",
    "link = 'https://github.com/search?p={i}&q=bot&type=Repositories'\n",
    "\n",
    "for i in range(1,21):\n",
    "    response = requests.get(link, headers={'user-agent': 'codeup data science hopper cohort'})\n",
    "    print(response.status_code)\n",
    "    html = response.text\n",
    "    soup = BeautifulSoup(html)\n",
    "    repos = soup.select('a.v-align-middle')\n",
    "    repo_links = [repo['href'] for repo in repos]\n",
    "    collector += repo_links\n",
    "    \n",
    "\n",
    "    if i % 5 == 0:\n",
    "        time.sleep(60)\n",
    "        \n",
    "collector"
   ]
  },
  {
   "cell_type": "code",
   "execution_count": null,
   "id": "0def219a",
   "metadata": {},
   "outputs": [],
   "source": [
    "collector"
   ]
  },
  {
   "cell_type": "code",
   "execution_count": null,
   "id": "979f1b8f",
   "metadata": {},
   "outputs": [],
   "source": [
    "len(collector)"
   ]
  },
  {
   "cell_type": "code",
   "execution_count": null,
   "id": "39a946a9",
   "metadata": {},
   "outputs": [],
   "source": [
    "accumulator = []\n",
    "for item in collector:\n",
    "    accumulator.append(item[1:])\n",
    "accumulator"
   ]
  },
  {
   "cell_type": "code",
   "execution_count": 2,
   "id": "e79a0acb",
   "metadata": {},
   "outputs": [],
   "source": [
    "def isEnglish(s):\n",
    "    try:\n",
    "        s.encode(encoding='utf-8').decode('ascii')\n",
    "        \n",
    "    except UnicodeDecodeError:\n",
    "        return False\n",
    "    else:\n",
    "        return True"
   ]
  },
  {
   "cell_type": "code",
   "execution_count": null,
   "id": "4b4989aa",
   "metadata": {},
   "outputs": [],
   "source": []
  }
 ],
 "metadata": {
  "kernelspec": {
   "display_name": "Python 3",
   "language": "python",
   "name": "python3"
  },
  "language_info": {
   "codemirror_mode": {
    "name": "ipython",
    "version": 3
   },
   "file_extension": ".py",
   "mimetype": "text/x-python",
   "name": "python",
   "nbconvert_exporter": "python",
   "pygments_lexer": "ipython3",
   "version": "3.8.8"
  }
 },
 "nbformat": 4,
 "nbformat_minor": 5
}
